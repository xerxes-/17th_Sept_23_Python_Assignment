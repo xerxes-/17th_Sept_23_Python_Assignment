{
 "cells": [
  {
   "cell_type": "markdown",
   "id": "ef2d843a-d469-4a06-918c-ba210c09aac3",
   "metadata": {},
   "source": [
    "# For Loop :-"
   ]
  },
  {
   "cell_type": "markdown",
   "id": "521beef8-bbf6-44e9-8413-6a25f7f5b997",
   "metadata": {},
   "source": [
    "#### 1. Write a Python program to print numbers from 1 to 10 using a for loop."
   ]
  },
  {
   "cell_type": "code",
   "execution_count": 1,
   "id": "e6257920-b723-4c96-a712-f7a97774ebe2",
   "metadata": {},
   "outputs": [
    {
     "name": "stdout",
     "output_type": "stream",
     "text": [
      "1\n",
      "2\n",
      "3\n",
      "4\n",
      "5\n",
      "6\n",
      "7\n",
      "8\n",
      "9\n",
      "10\n"
     ]
    }
   ],
   "source": [
    "for i in range(1, 11):\n",
    "    print(i)"
   ]
  },
  {
   "cell_type": "markdown",
   "id": "acac01a8-896f-4bbc-8bbe-451a27efeb37",
   "metadata": {},
   "source": [
    "#### 2. Explain the difference between a for loop and a while loop in Python."
   ]
  },
  {
   "cell_type": "code",
   "execution_count": 6,
   "id": "60e4e039-9ddb-40cd-a890-832f352572cd",
   "metadata": {},
   "outputs": [
    {
     "name": "stdout",
     "output_type": "stream",
     "text": [
      "apple\n",
      "banana\n",
      "cherry\n",
      "0\n",
      "1\n",
      "2\n",
      "3\n",
      "4\n"
     ]
    }
   ],
   "source": [
    "# For loops are used when we need to iterate over a sequence or iterable, and the loop variable is automatically assigned:\n",
    "\n",
    "fruits = ['apple', 'banana', 'cherry']\n",
    "for fruit in fruits:\n",
    "    print(fruit)\n",
    "\n",
    "# While loops are used when we need to execute a block of code repeatedly based on a condition, and we need to manually control the loop variable:\n",
    "\n",
    "i = 0\n",
    "while i < 5:\n",
    "    print(i)\n",
    "    i += 1"
   ]
  },
  {
   "cell_type": "markdown",
   "id": "dbca8aff-25e4-48f9-a943-1b6f49842578",
   "metadata": {},
   "source": [
    "#### 3. Write a Python program to calculate the sum of all numbers from 1 to 100 using a for loop."
   ]
  },
  {
   "cell_type": "code",
   "execution_count": 5,
   "id": "65531f76-484d-46d0-a9f6-edbfef80317c",
   "metadata": {},
   "outputs": [
    {
     "name": "stdout",
     "output_type": "stream",
     "text": [
      "5050\n"
     ]
    }
   ],
   "source": [
    "z = sum([i for i in range(1, 101)])\n",
    "print(z)"
   ]
  },
  {
   "cell_type": "markdown",
   "id": "780df078-47fb-4fc2-be34-746ba01d8a3a",
   "metadata": {},
   "source": [
    "#### 4. How do you iterate through a list using a for loop in Python"
   ]
  },
  {
   "cell_type": "code",
   "execution_count": 7,
   "id": "0acab8e7-bdc8-4eec-91b2-e9053537f816",
   "metadata": {},
   "outputs": [
    {
     "name": "stdout",
     "output_type": "stream",
     "text": [
      "apple\n",
      "banana\n",
      "cherry\n",
      "apple\n",
      "banana\n",
      "cherry\n",
      "0: apple\n",
      "1: banana\n",
      "2: cherry\n"
     ]
    }
   ],
   "source": [
    "# 1.Simple Iteration:\n",
    "\n",
    "fruits = ['apple', 'banana', 'cherry']\n",
    "for fruit in fruits:\n",
    "    print(fruit)\n",
    "    \n",
    "# 2.Index-Based Iteration:\n",
    "\n",
    "fruits = ['apple', 'banana', 'cherry']\n",
    "for i in range(len(fruits)):\n",
    "    print(fruits[i])\n",
    "    \n",
    "# 3.enumerate() Function:\n",
    "\n",
    "fruits = ['apple', 'banana', 'cherry']\n",
    "for i, fruit in enumerate(fruits):\n",
    "    print(f\"{i}: {fruit}\")"
   ]
  },
  {
   "cell_type": "code",
   "execution_count": 7,
   "id": "390fa865-d622-48ed-bf16-ee812472b21d",
   "metadata": {},
   "outputs": [
    {
     "name": "stdout",
     "output_type": "stream",
     "text": [
      "apple\n",
      "banana\n",
      "cherry\n",
      "apple\n",
      "banana\n",
      "cherry\n",
      "0: apple\n",
      "1: banana\n",
      "2: cherry\n"
     ]
    }
   ],
   "source": [
    "# 1.Simple Iteration:\n",
    "\n",
    "fruits = ['apple', 'banana', 'cherry']\n",
    "for fruit in fruits:\n",
    "    print(fruit)\n",
    "    \n",
    "# 2.Index-Based Iteration:\n",
    "\n",
    "fruits = ['apple', 'banana', 'cherry']\n",
    "for i in range(len(fruits)):\n",
    "    print(fruits[i])\n",
    "    \n",
    "# 3.enumerate() Function:\n",
    "\n",
    "fruits = ['apple', 'banana', 'cherry']\n",
    "for i, fruit in enumerate(fruits):\n",
    "    print(f\"{i}: {fruit}\")"
   ]
  },
  {
   "cell_type": "code",
   "execution_count": 7,
   "id": "782fcd7e-3a9d-441d-a370-64302e5c7d4a",
   "metadata": {},
   "outputs": [
    {
     "name": "stdout",
     "output_type": "stream",
     "text": [
      "apple\n",
      "banana\n",
      "cherry\n",
      "apple\n",
      "banana\n",
      "cherry\n",
      "0: apple\n",
      "1: banana\n",
      "2: cherry\n"
     ]
    }
   ],
   "source": [
    "# 1.Simple Iteration:\n",
    "\n",
    "fruits = ['apple', 'banana', 'cherry']\n",
    "for fruit in fruits:\n",
    "    print(fruit)\n",
    "    \n",
    "# 2.Index-Based Iteration:\n",
    "\n",
    "fruits = ['apple', 'banana', 'cherry']\n",
    "for i in range(len(fruits)):\n",
    "    print(fruits[i])\n",
    "    \n",
    "# 3.enumerate() Function:\n",
    "\n",
    "fruits = ['apple', 'banana', 'cherry']\n",
    "for i, fruit in enumerate(fruits):\n",
    "    print(f\"{i}: {fruit}\")"
   ]
  },
  {
   "cell_type": "code",
   "execution_count": 7,
   "id": "d527a0c2-2270-41d9-a73d-45e635f56a61",
   "metadata": {},
   "outputs": [
    {
     "name": "stdout",
     "output_type": "stream",
     "text": [
      "apple\n",
      "banana\n",
      "cherry\n",
      "apple\n",
      "banana\n",
      "cherry\n",
      "0: apple\n",
      "1: banana\n",
      "2: cherry\n"
     ]
    }
   ],
   "source": [
    "# 1.Simple Iteration:\n",
    "\n",
    "fruits = ['apple', 'banana', 'cherry']\n",
    "for fruit in fruits:\n",
    "    print(fruit)\n",
    "    \n",
    "# 2.Index-Based Iteration:\n",
    "\n",
    "fruits = ['apple', 'banana', 'cherry']\n",
    "for i in range(len(fruits)):\n",
    "    print(fruits[i])\n",
    "    \n",
    "# 3.enumerate() Function:\n",
    "\n",
    "fruits = ['apple', 'banana', 'cherry']\n",
    "for i, fruit in enumerate(fruits):\n",
    "    print(f\"{i}: {fruit}\")"
   ]
  },
  {
   "cell_type": "code",
   "execution_count": 7,
   "id": "90dec3aa-2ad4-445e-b594-276fd9258211",
   "metadata": {},
   "outputs": [
    {
     "name": "stdout",
     "output_type": "stream",
     "text": [
      "apple\n",
      "banana\n",
      "cherry\n",
      "apple\n",
      "banana\n",
      "cherry\n",
      "0: apple\n",
      "1: banana\n",
      "2: cherry\n"
     ]
    }
   ],
   "source": [
    "# 1.Simple Iteration:\n",
    "\n",
    "fruits = ['apple', 'banana', 'cherry']\n",
    "for fruit in fruits:\n",
    "    print(fruit)\n",
    "    \n",
    "# 2.Index-Based Iteration:\n",
    "\n",
    "fruits = ['apple', 'banana', 'cherry']\n",
    "for i in range(len(fruits)):\n",
    "    print(fruits[i])\n",
    "    \n",
    "# 3.enumerate() Function:\n",
    "\n",
    "fruits = ['apple', 'banana', 'cherry']\n",
    "for i, fruit in enumerate(fruits):\n",
    "    print(f\"{i}: {fruit}\")"
   ]
  },
  {
   "cell_type": "markdown",
   "id": "bca637f9-152d-4d0f-899c-b2c73fd3c9a9",
   "metadata": {},
   "source": [
    "#### 5. Write a Python program to find the product of all elements in a list using a for loop"
   ]
  },
  {
   "cell_type": "code",
   "execution_count": 8,
   "id": "79fd832c-ae68-42a3-901d-b36fda0a8888",
   "metadata": {},
   "outputs": [
    {
     "name": "stdin",
     "output_type": "stream",
     "text": [
      "Enter the elements of the list separated by spaces: 4 8 77 6 5 4 2222\n"
     ]
    },
    {
     "name": "stdout",
     "output_type": "stream",
     "text": [
      "Product of all elements in the list: 657000960\n"
     ]
    }
   ],
   "source": [
    "def product_of_elements(my_list):\n",
    "    product = 1\n",
    "    for num in my_list:\n",
    "        product *= num\n",
    "    return product\n",
    "\n",
    "try:\n",
    "    my_list = [int(x) for x in input(\"Enter the elements of the list separated by spaces:\").split()]\n",
    "    result = product_of_elements(my_list)\n",
    "    print(\"Product of all elements in the list:\", result)\n",
    "except ValueError:\n",
    "    print(\"Invalid input. Please enter valid integers for the elements of the list.\")\n"
   ]
  },
  {
   "cell_type": "markdown",
   "id": "8bf27b7e-9700-47ea-a8f1-27ec4b014e04",
   "metadata": {},
   "source": [
    "#### 6. Create a Python program that prints all even numbers from 1 to 20 using a for loop."
   ]
  },
  {
   "cell_type": "code",
   "execution_count": 9,
   "id": "f9382e1c-2753-4f20-a7b7-c55bab94616c",
   "metadata": {},
   "outputs": [
    {
     "name": "stdout",
     "output_type": "stream",
     "text": [
      "2\n",
      "4\n",
      "6\n",
      "8\n",
      "10\n",
      "12\n",
      "14\n",
      "16\n",
      "18\n",
      "20\n"
     ]
    }
   ],
   "source": [
    "for num in range(2, 21, 2):\n",
    "    print(num)"
   ]
  },
  {
   "cell_type": "markdown",
   "id": "b9e5ce34-d1e5-43c2-96ef-267fc23a97de",
   "metadata": {},
   "source": [
    "#### 7. Write a Python program that calculates the factorial of a number using a for loop"
   ]
  },
  {
   "cell_type": "code",
   "execution_count": 11,
   "id": "6a427c4e-fcdf-4e66-a740-b05a0f2440b7",
   "metadata": {},
   "outputs": [
    {
     "name": "stdin",
     "output_type": "stream",
     "text": [
      "Enter a number to calculate its factorial:  23\n"
     ]
    },
    {
     "name": "stdout",
     "output_type": "stream",
     "text": [
      "Factorial of 23 is: 25852016738884976640000\n"
     ]
    }
   ],
   "source": [
    "def factorial(num):\n",
    "    if (num == 1 or num == 0):\n",
    "        return 1\n",
    "    else:\n",
    "        return (num * factorial(num - 1))\n",
    "    \n",
    "try:\n",
    "    num = int(input(\"Enter a number to calculate its factorial: \"))\n",
    "    if num < 0:\n",
    "        print(\"Factorial is not defined for negative numbers.\")\n",
    "    else:\n",
    "        print(\"Factorial of\", num, \"is:\", factorial(num))\n",
    "except ValueError:\n",
    "    print(\"Invalid input. Please enter a valid integer.\")"
   ]
  },
  {
   "cell_type": "markdown",
   "id": "3e6c0933-c244-44a5-8319-6c90157499ef",
   "metadata": {},
   "source": [
    "#### 8. How can you iterate through the characters of a string using a for loop in Python?"
   ]
  },
  {
   "cell_type": "code",
   "execution_count": 12,
   "id": "78c9ae8b-3a21-4c4c-98cc-8492984fd187",
   "metadata": {},
   "outputs": [
    {
     "name": "stdout",
     "output_type": "stream",
     "text": [
      "H\n",
      "e\n",
      "l\n",
      "l\n",
      "o\n",
      ",\n",
      " \n",
      "W\n",
      "o\n",
      "r\n",
      "l\n",
      "d\n",
      "!\n",
      "0: H\n",
      "1: e\n",
      "2: l\n",
      "3: l\n",
      "4: o\n",
      "5: ,\n",
      "6:  \n",
      "7: W\n",
      "8: o\n",
      "9: r\n",
      "10: l\n",
      "11: d\n",
      "12: !\n"
     ]
    }
   ],
   "source": [
    "# 1.Simple Iteration:\n",
    "\n",
    "for char in \"Hello, World!\":\n",
    "    print(char)\n",
    "    \n",
    "# 2.enumerate() Function:\n",
    "\n",
    "for i, char in enumerate(\"Hello, World!\"):\n",
    "    print(f\"{i}: {char}\")"
   ]
  },
  {
   "cell_type": "markdown",
   "id": "871673cc-ba8e-4d3c-9f43-9fb2e0a430fe",
   "metadata": {},
   "source": [
    "#### 9. Write a Python program to find the largest number in a list using a for loop."
   ]
  },
  {
   "cell_type": "code",
   "execution_count": 14,
   "id": "9164c77e-9b14-46f3-8656-36f0f1522204",
   "metadata": {},
   "outputs": [
    {
     "name": "stdin",
     "output_type": "stream",
     "text": [
      "Enter the elements of the list separated by spaces: 34 362 1 4 67 9 34\n"
     ]
    },
    {
     "name": "stdout",
     "output_type": "stream",
     "text": [
      "The largest number in the list is: 362\n"
     ]
    }
   ],
   "source": [
    "def find_largest_number(my_list):\n",
    "    if not my_list:\n",
    "        return None\n",
    "    max_number = my_list[0]\n",
    "    for num in my_list:\n",
    "        if num > max_number:\n",
    "            max_number = num\n",
    "    return max_number\n",
    "\n",
    "try:\n",
    "    my_list = [int(x) for x in input(\"Enter the elements of the list separated by spaces:\").split()]\n",
    "    largest_number = find_largest_number(my_list)\n",
    "    if largest_number is not None:\n",
    "        print(\"The largest number in the list is:\", largest_number)\n",
    "    else:\n",
    "        print(\"The list is empty.\")\n",
    "except ValueError:\n",
    "    print(\"Invalid input. Please enter valid integers for the elements of the list.\")\n"
   ]
  },
  {
   "cell_type": "markdown",
   "id": "4421206e-8d45-41c3-a6f9-7b0706f64e91",
   "metadata": {},
   "source": [
    "#### 10. Create a Python program that prints the Fibonacci sequence up to a specified limit using a for loop."
   ]
  },
  {
   "cell_type": "code",
   "execution_count": 21,
   "id": "6875cc7a-a242-4d40-a3f8-43f4e67da731",
   "metadata": {},
   "outputs": [
    {
     "name": "stdin",
     "output_type": "stream",
     "text": [
      "Enter the limit to generate Fibonacci sequence: 23\n"
     ]
    },
    {
     "name": "stdout",
     "output_type": "stream",
     "text": [
      "0\n",
      "1\n",
      "1\n",
      "2\n",
      "3\n",
      "5\n",
      "8\n",
      "13\n",
      "21\n",
      "34\n",
      "55\n",
      "89\n",
      "144\n",
      "233\n",
      "377\n",
      "610\n",
      "987\n",
      "1597\n",
      "2584\n",
      "4181\n",
      "6765\n",
      "10946\n",
      "17711\n"
     ]
    }
   ],
   "source": [
    "def fibonacci(n):  # n is number of indexes\n",
    "    if n <= 1:\n",
    "        return n\n",
    "    else:\n",
    "        return fibonacci(n - 1) + fibonacci(n - 2)\n",
    "    \n",
    "try:\n",
    "    n = int(input(\"Enter the limit to generate Fibonacci sequence:\"))\n",
    "    if n <= 0:\n",
    "        print(\"Please enter a positive integer.\")\n",
    "    else:\n",
    "        for i in range(n):  # i is index\n",
    "            print(fibonacci(i))\n",
    "except ValueError:\n",
    "    print(\"Invalid input. Please enter a valid integer.\")"
   ]
  },
  {
   "cell_type": "markdown",
   "id": "997ed4a0-8cb4-4465-b1f7-507190840824",
   "metadata": {},
   "source": [
    "#### 11. Write a Python program to count the number of vowels in a given string using a for loop."
   ]
  },
  {
   "cell_type": "code",
   "execution_count": 22,
   "id": "a9885133-1650-4a41-8e98-0665ef5ab851",
   "metadata": {},
   "outputs": [
    {
     "name": "stdin",
     "output_type": "stream",
     "text": [
      "Enter a string: sfdsfdasfdasfaf acasfa ascsaf\n"
     ]
    },
    {
     "name": "stdout",
     "output_type": "stream",
     "text": [
      "Number of vowels in the string: 8\n"
     ]
    }
   ],
   "source": [
    "def count_vowels(text):\n",
    "    vowels = \"aeiouAEIOU\"\n",
    "    vowel_count = 0\n",
    "    for char in text:\n",
    "        if char in vowels:\n",
    "            vowel_count += 1\n",
    "    return vowel_count\n",
    "\n",
    "try:\n",
    "    text = input(\"Enter a string:\")\n",
    "    vowel_count = count_vowels(text)\n",
    "    print(\"Number of vowels in the string:\", vowel_count)\n",
    "except ValueError:\n",
    "    print(\"Invalid input. Please enter a valid string.\")\n"
   ]
  },
  {
   "cell_type": "markdown",
   "id": "996d2b31-cc90-4314-a583-6e6eee3bf90d",
   "metadata": {},
   "source": [
    "#### 12. Create a Python program that generates a multiplication table for a given number using a for loop."
   ]
  },
  {
   "cell_type": "code",
   "execution_count": 23,
   "id": "5648d3d1-5249-4d75-9e99-cec3374ced5a",
   "metadata": {},
   "outputs": [
    {
     "name": "stdin",
     "output_type": "stream",
     "text": [
      "Enter a number to generate its multiplication table: 42\n"
     ]
    },
    {
     "name": "stdout",
     "output_type": "stream",
     "text": [
      "Multiplication table for 42:\n",
      "42 x 1 = 42\n",
      "42 x 2 = 84\n",
      "42 x 3 = 126\n",
      "42 x 4 = 168\n",
      "42 x 5 = 210\n",
      "42 x 6 = 252\n",
      "42 x 7 = 294\n",
      "42 x 8 = 336\n",
      "42 x 9 = 378\n",
      "42 x 10 = 420\n"
     ]
    }
   ],
   "source": [
    "def multiplication_table(number):\n",
    "    print(f\"Multiplication table for {number}:\")\n",
    "    for i in range(1, 11):\n",
    "        print(f\"{number} x {i} = {number * i}\")\n",
    "\n",
    "try:\n",
    "    number = int(input(\"Enter a number to generate its multiplication table:\"))\n",
    "    multiplication_table(number)\n",
    "except ValueError:\n",
    "    print(\"Invalid input. Please enter a valid integer.\")\n"
   ]
  },
  {
   "cell_type": "markdown",
   "id": "7131c043-2f0e-4530-a64c-2aaad1ec0a0b",
   "metadata": {},
   "source": [
    "#### 13. Write a Python program to reverse a list using a for loop."
   ]
  },
  {
   "cell_type": "code",
   "execution_count": 24,
   "id": "58288b11-d1e0-4779-ab2b-c0ede57e187e",
   "metadata": {},
   "outputs": [
    {
     "name": "stdin",
     "output_type": "stream",
     "text": [
      "Enter elements of the list separated by spaces: 23 23 45 1 6 4 3\n"
     ]
    },
    {
     "name": "stdout",
     "output_type": "stream",
     "text": [
      "Original list: ['23', '23', '45', '1', '6', '4', '3']\n",
      "Reversed list: ['3', '4', '6', '1', '45', '23', '23']\n"
     ]
    }
   ],
   "source": [
    "def reverse_list(my_list):\n",
    "    reversed_list = []\n",
    "    for i in range(len(my_list) - 1, -1, -1):\n",
    "        reversed_list.append(my_list[i])\n",
    "    return reversed_list\n",
    "\n",
    "try:\n",
    "    my_list = input(\"Enter elements of the list separated by spaces:\").split()\n",
    "    reversed_list = reverse_list(my_list)\n",
    "    print(\"Original list:\", my_list)\n",
    "    print(\"Reversed list:\", reversed_list)\n",
    "except ValueError:\n",
    "    print(\"Invalid input. Please enter valid elements for the list.\")\n"
   ]
  },
  {
   "cell_type": "markdown",
   "id": "7709be92-9a66-4864-93af-68f0f78b857a",
   "metadata": {},
   "source": [
    "#### 14. Write a Python program to find the common elements between two lists using a for loop"
   ]
  },
  {
   "cell_type": "code",
   "execution_count": 25,
   "id": "03693a53-151d-48fb-86b0-41e49bd3e1f6",
   "metadata": {},
   "outputs": [
    {
     "name": "stdin",
     "output_type": "stream",
     "text": [
      "Enter elements of the first list separated by spaces: 3 4 2 5 33 2\n",
      "Enter elements of the second list separated by spaces: 3 4 6 8 90 3\n"
     ]
    },
    {
     "name": "stdout",
     "output_type": "stream",
     "text": [
      "Common elements: ['3', '4']\n"
     ]
    }
   ],
   "source": [
    "def find_common_elements(list1, list2):\n",
    "    common_elements = []\n",
    "    for item1 in list1:\n",
    "        for item2 in list2:\n",
    "            if item1 == item2:\n",
    "                common_elements.append(item1)\n",
    "                break\n",
    "    return common_elements\n",
    "\n",
    "try:\n",
    "    list1 = input(\"Enter elements of the first list separated by spaces:\").split()\n",
    "    list2 = input(\"Enter elements of the second list separated by spaces:\").split()\n",
    "\n",
    "    common_elements = find_common_elements(list1, list2)\n",
    "\n",
    "    if common_elements:\n",
    "        print(\"Common elements:\", common_elements)\n",
    "    else:\n",
    "        print(\"No common elements found.\")\n",
    "except ValueError:\n",
    "    print(\"Invalid input. Please enter valid elements for the lists.\")\n"
   ]
  },
  {
   "cell_type": "markdown",
   "id": "cf4ab17a-443d-4318-9b66-529300e5adbc",
   "metadata": {},
   "source": [
    "#### 15. Explain how to use a for loop to iterate through the keys and values of a dictionary in Python."
   ]
  },
  {
   "cell_type": "code",
   "execution_count": 46,
   "id": "c5e81d5d-7e4e-4cad-9c93-c819bfaf3290",
   "metadata": {},
   "outputs": [
    {
     "name": "stdout",
     "output_type": "stream",
     "text": [
      "a 1\n",
      "b 2\n",
      "c 3\n",
      "a\n",
      "b\n",
      "c\n",
      "1\n",
      "2\n",
      "3\n"
     ]
    }
   ],
   "source": [
    "# Here are two common methods to iterate through the keys and values of a dictionary using a for loop:\n",
    "\n",
    "# 1. Using the items():\n",
    "my_dict = {'a': 1, 'b': 2, 'c': 3}\n",
    "\n",
    "for key, value in my_dict.items():\n",
    "    print(key, value)\n",
    "\n",
    "# 2. Using separate loops for keys and values:\n",
    "my_dict = {'a': 1, 'b': 2, 'c': 3}\n",
    "\n",
    "# Iterate through keys\n",
    "for key in my_dict.keys():\n",
    "    print(key)\n",
    "\n",
    "# Iterate through values\n",
    "for value in my_dict.values():\n",
    "    print(value)\n",
    "\n",
    "\"\"\"\n",
    "Both methods are commonly used depending on the specific requirements. \n",
    "Method 1 is more concise and efficient as it directly provides access to both keys and values in a single loop. \n",
    "Method 2 allows us to iterate through keys and values separately, which might be useful in certain scenarios.\n",
    "\"\"\";"
   ]
  },
  {
   "cell_type": "markdown",
   "id": "38f45db9-fc19-43cc-8605-9a11c8bcf8f8",
   "metadata": {},
   "source": [
    "#### 16. Write a Python program to find the GCD (Greatest Common Divisor) of two numbers using a for loop."
   ]
  },
  {
   "cell_type": "code",
   "execution_count": 28,
   "id": "3923bdda-f66a-4085-bc28-5f3938f522d4",
   "metadata": {},
   "outputs": [
    {
     "name": "stdin",
     "output_type": "stream",
     "text": [
      "Enter the first number: 23\n",
      "Enter the second number: 54\n"
     ]
    },
    {
     "name": "stdout",
     "output_type": "stream",
     "text": [
      "GCD of 23 and 54 is: 1\n"
     ]
    }
   ],
   "source": [
    "def gcd(num1, num2):\n",
    "    smaller = min(num1, num2)\n",
    "    for i in range(smaller, 0, -1):\n",
    "        if num1 % i == 0 and num2 % i == 0:\n",
    "            return i\n",
    "    return 1\n",
    "\n",
    "try:\n",
    "    num1 = int(input(\"Enter the first number:\"))\n",
    "    num2 = int(input(\"Enter the second number:\"))\n",
    "    if num1 < 0 or num2 < 0:\n",
    "        print(\"Please enter positive integers.\")\n",
    "    else:\n",
    "        gcd_value = gcd(num1, num2)\n",
    "        print(\"GCD of\", num1, \"and\", num2, \"is:\", gcd_value)\n",
    "except ValueError:\n",
    "    print(\"Invalid input. Please enter valid integers.\")\n"
   ]
  },
  {
   "cell_type": "markdown",
   "id": "8b0f91f9-d462-4c2d-b775-86a84fe7acd1",
   "metadata": {},
   "source": [
    "#### 17. Create a Python program that checks if a string is a palindrome using a for loop."
   ]
  },
  {
   "cell_type": "code",
   "execution_count": 29,
   "id": "cbb2323d-8844-4b79-b692-b3d4e6e55199",
   "metadata": {},
   "outputs": [
    {
     "name": "stdin",
     "output_type": "stream",
     "text": [
      "Enter a string: nitin is a good boy\n"
     ]
    },
    {
     "name": "stdout",
     "output_type": "stream",
     "text": [
      "The string is not a palindrome.\n"
     ]
    }
   ],
   "source": [
    "def is_palindrome(s):\n",
    "    s = s.replace(\" \", \"\").lower()\n",
    "    for i in range(len(s) // 2):\n",
    "        if s[i] != s[-i - 1]:\n",
    "            return False\n",
    "    return True\n",
    "\n",
    "try:\n",
    "    string = input(\"Enter a string:\")\n",
    "    print(\"The string is a palindrome.\" if is_palindrome(string) else \"The string is not a palindrome.\")\n",
    "except ValueError:\n",
    "    print(\"Invalid input. Please enter a valid string.\")\n"
   ]
  },
  {
   "cell_type": "markdown",
   "id": "aaf99e6e-5145-454a-815b-710dce217d27",
   "metadata": {},
   "source": [
    "#### 18. Write a Python program to remove duplicates from a list using a for loop"
   ]
  },
  {
   "cell_type": "code",
   "execution_count": 30,
   "id": "4eb8f138-d8bd-43b7-b66e-5d3e30ae904e",
   "metadata": {},
   "outputs": [
    {
     "name": "stdin",
     "output_type": "stream",
     "text": [
      "Enter elements of the list separated by spaces: 3 4 2 4 4  2 7 8 54 43 2\n"
     ]
    },
    {
     "name": "stdout",
     "output_type": "stream",
     "text": [
      "List after removing duplicates: ['3', '4', '2', '7', '8', '54', '43']\n"
     ]
    }
   ],
   "source": [
    "def remove_duplicates(input_list):\n",
    "    unique_list = []\n",
    "    for item in input_list:\n",
    "        if item not in unique_list:\n",
    "            unique_list.append(item)\n",
    "    return unique_list\n",
    "\n",
    "try:\n",
    "    input_list = input(\"Enter elements of the list separated by spaces:\").split()\n",
    "    unique_list = remove_duplicates(input_list)\n",
    "    print(\"List after removing duplicates:\", unique_list)\n",
    "except ValueError:\n",
    "    print(\"Invalid input. Please enter valid elements for the list.\")\n"
   ]
  },
  {
   "cell_type": "markdown",
   "id": "3e32ff53-746e-4268-9fb6-69137e7455ce",
   "metadata": {},
   "source": [
    "#### 19. Create a Python program that counts the number of words in a sentence using a for loop."
   ]
  },
  {
   "cell_type": "code",
   "execution_count": 31,
   "id": "eaf67e0f-eca1-4ef7-9943-127fb069fd46",
   "metadata": {},
   "outputs": [
    {
     "name": "stdin",
     "output_type": "stream",
     "text": [
      "Enter a sentence: The string is not a palindrome.\n"
     ]
    },
    {
     "name": "stdout",
     "output_type": "stream",
     "text": [
      "Number of words in the sentence: 6\n"
     ]
    }
   ],
   "source": [
    "def count_words(sentence):\n",
    "    word_count = 0\n",
    "    for char in sentence:\n",
    "        # Check if the current character is a space\n",
    "        if char == ' ':\n",
    "            # Increment the word count when encountering a space\n",
    "            word_count += 1\n",
    "    # Increment word count by 1 to account for the last word\n",
    "    word_count += 1\n",
    "    return word_count\n",
    "\n",
    "try:\n",
    "    sentence = input(\"Enter a sentence:\")\n",
    "    print(\"Number of words in the sentence:\", count_words(sentence))\n",
    "except ValueError:\n",
    "    print(\"Invalid input. Please enter a valid sentence.\")\n"
   ]
  },
  {
   "cell_type": "markdown",
   "id": "f2ed1c2a-5cc3-4f6a-824f-e96a5f73a372",
   "metadata": {},
   "source": [
    "#### 20. Write a Python program to find the sum of all odd numbers from 1 to 50 using a for loop"
   ]
  },
  {
   "cell_type": "code",
   "execution_count": 32,
   "id": "b95e3bf7-e213-4a10-a986-8cf9435a5e36",
   "metadata": {},
   "outputs": [
    {
     "name": "stdout",
     "output_type": "stream",
     "text": [
      "Sum of odd numbers from 1 to 50: 625\n"
     ]
    }
   ],
   "source": [
    "# Initialize the sum variable to store the sum of odd numbers\n",
    "sum_of_odds = 0\n",
    "\n",
    "# Iterate through numbers from 1 to 50\n",
    "for num in range(1, 51):\n",
    "    # Check if the number is odd\n",
    "    if num % 2 != 0:\n",
    "        # If the number is odd, add it to the sum\n",
    "        sum_of_odds += num\n",
    "\n",
    "# Print the sum of odd numbers\n",
    "print(\"Sum of odd numbers from 1 to 50:\", sum_of_odds)\n"
   ]
  },
  {
   "cell_type": "markdown",
   "id": "f64c160b-d277-499b-abfc-97cfcfcda56b",
   "metadata": {},
   "source": [
    "#### 21. Write a Python program that checks if a given year is a leap year using a for loop."
   ]
  },
  {
   "cell_type": "code",
   "execution_count": 36,
   "id": "954614f4-7c16-4497-b8a3-3d07cb655e83",
   "metadata": {},
   "outputs": [
    {
     "name": "stdin",
     "output_type": "stream",
     "text": [
      "Enter a year: 2000\n"
     ]
    },
    {
     "name": "stdout",
     "output_type": "stream",
     "text": [
      "2000 is a leap year.\n"
     ]
    }
   ],
   "source": [
    "def is_leap_year(year):\n",
    "    for y in range(1900, 2101):\n",
    "        if year == y:\n",
    "            if (year % 4 == 0 and year % 100 != 0) or (year % 400 == 0):\n",
    "                return True\n",
    "            else:\n",
    "                return False\n",
    "    return False\n",
    "\n",
    "try:\n",
    "    year = int(input(\"Enter a year:\"))\n",
    "    if is_leap_year(year):\n",
    "        print(year, \"is a leap year.\")\n",
    "    else:\n",
    "        print(year, \"is not a leap year.\")\n",
    "except ValueError:\n",
    "    print(\"Invalid input. Please enter a valid year.\")\n"
   ]
  },
  {
   "cell_type": "markdown",
   "id": "0a8bd4ea-596f-4d35-9985-ac1ab3302a14",
   "metadata": {},
   "source": [
    "#### 22. Create a Python program that calculates the square root of a number using a for loop."
   ]
  },
  {
   "cell_type": "code",
   "execution_count": 38,
   "id": "6a1fe5e2-3489-4641-84d1-80c689b14c4e",
   "metadata": {},
   "outputs": [
    {
     "name": "stdin",
     "output_type": "stream",
     "text": [
      "Enter a number: 235\n"
     ]
    },
    {
     "name": "stdout",
     "output_type": "stream",
     "text": [
      "Square root of 235.0 is approximately 15.32971\n"
     ]
    }
   ],
   "source": [
    "def sqrt(number):\n",
    "    # Base case: return None if the number is negative\n",
    "    if number < 0:\n",
    "        return None\n",
    "    \n",
    "    # Initialize the initial guess for square root\n",
    "    guess = number / 2\n",
    "    \n",
    "    # Set the precision for the calculation\n",
    "    precision = 0.0001\n",
    "    \n",
    "    # Iterate and refine the guess using a for loop\n",
    "    for _ in range(1000):  # Arbitrary number of iterations\n",
    "        new_guess = (guess + number / guess) / 2\n",
    "        if abs(new_guess - guess) < precision:\n",
    "            return new_guess\n",
    "        guess = new_guess\n",
    "    \n",
    "    return guess\n",
    "\n",
    "try:\n",
    "    num = float(input(\"Enter a number:\"))\n",
    "    result = sqrt(num)\n",
    "    if result is not None:\n",
    "        print(f\"Square root of {num} is approximately {result:.5f}\")\n",
    "    else:\n",
    "        print(\"Cannot calculate square root of a negative number.\")\n",
    "except ValueError:\n",
    "    print(\"Invalid input. Please enter a valid number.\")\n"
   ]
  },
  {
   "cell_type": "markdown",
   "id": "d538aa79-d171-4f15-8d58-a6efd6e6598a",
   "metadata": {},
   "source": [
    "#### 23. Write a Python program to find the LCM (Least Common Multiple) of two numbers using a for loop."
   ]
  },
  {
   "cell_type": "code",
   "execution_count": 39,
   "id": "24eaf320-0a9a-4288-a07d-5b58cfb113c4",
   "metadata": {},
   "outputs": [
    {
     "name": "stdin",
     "output_type": "stream",
     "text": [
      "Enter the first number: 34\n",
      "Enter the second number: 56\n"
     ]
    },
    {
     "name": "stdout",
     "output_type": "stream",
     "text": [
      "LCM of 34 and 56 is: 952\n"
     ]
    }
   ],
   "source": [
    "def lcm(num1, num2):\n",
    "    # Find the maximum of the two numbers\n",
    "    max_num = max(num1, num2)\n",
    "\n",
    "    # Initialize the LCM variable to the larger number\n",
    "    lcm_value = max_num\n",
    "\n",
    "    # Start iterating from the larger number\n",
    "    for i in range(max_num, num1 * num2 + 1, max_num):\n",
    "        # Check if the current multiple is divisible by both numbers\n",
    "        if i % num1 == 0 and i % num2 == 0:\n",
    "            lcm_value = i\n",
    "            break\n",
    "\n",
    "    return lcm_value\n",
    "\n",
    "try:\n",
    "    num1 = int(input(\"Enter the first number:\"))\n",
    "    num2 = int(input(\"Enter the second number:\"))\n",
    "    if num1 <= 0 or num2 <= 0:\n",
    "        print(\"Please enter positive integers.\")\n",
    "    else:\n",
    "        print(\"LCM of\", num1, \"and\", num2, \"is:\", lcm(num1, num2))\n",
    "except ValueError:\n",
    "    print(\"Invalid input. Please enter valid integers.\")\n"
   ]
  },
  {
   "cell_type": "markdown",
   "id": "6f62de52-98f1-4030-8b1e-efbd5bdb22ef",
   "metadata": {},
   "source": [
    "# If else :"
   ]
  },
  {
   "cell_type": "markdown",
   "id": "4918d661-bb3d-472c-90d7-950cf434d77c",
   "metadata": {},
   "source": [
    "#### 1. Write a Python program to check if a number is positive, negative, or zero using an if-else statement."
   ]
  },
  {
   "cell_type": "code",
   "execution_count": 40,
   "id": "5f48c5cf-f801-44d5-b34a-4560cd979e5a",
   "metadata": {},
   "outputs": [
    {
     "name": "stdin",
     "output_type": "stream",
     "text": [
      "Enter a number: 234\n"
     ]
    },
    {
     "name": "stdout",
     "output_type": "stream",
     "text": [
      "The number is positive.\n"
     ]
    }
   ],
   "source": [
    "try:\n",
    "    number = float(input(\"Enter a number:\"))\n",
    "    if number > 0:\n",
    "        print(\"The number is positive.\")\n",
    "    elif number < 0:\n",
    "        print(\"The number is negative.\")\n",
    "    else:\n",
    "        print(\"The number is zero.\")\n",
    "except ValueError:\n",
    "    print(\"Invalid input. Please enter a valid number.\")\n"
   ]
  },
  {
   "cell_type": "markdown",
   "id": "e124cd3e-60eb-40b5-b428-a2594efb9514",
   "metadata": {},
   "source": [
    "#### 2. Create a Python program that checks if a given number is even or odd using an if-else statement"
   ]
  },
  {
   "cell_type": "code",
   "execution_count": 41,
   "id": "2049cf4f-de5f-4e66-8775-f3a9b4f2ece7",
   "metadata": {},
   "outputs": [
    {
     "name": "stdin",
     "output_type": "stream",
     "text": [
      "Enter a number: 234\n"
     ]
    },
    {
     "name": "stdout",
     "output_type": "stream",
     "text": [
      "The number is even.\n"
     ]
    }
   ],
   "source": [
    "try:\n",
    "    number = int(input(\"Enter a number:\"))\n",
    "    if number % 2 == 0:\n",
    "        print(\"The number is even.\")\n",
    "    else:\n",
    "        print(\"The number is odd.\")\n",
    "except ValueError:\n",
    "    print(\"Invalid input. Please enter a valid integer.\")\n"
   ]
  },
  {
   "cell_type": "markdown",
   "id": "89c63b3a-66c5-4d7b-b05e-46af8b5fcfa3",
   "metadata": {},
   "source": [
    "#### 3. How can you use nested if-else statements in Python, and provide an example?"
   ]
  },
  {
   "cell_type": "code",
   "execution_count": 43,
   "id": "20d016fd-397d-4500-9718-771d5751b737",
   "metadata": {},
   "outputs": [
    {
     "name": "stdout",
     "output_type": "stream",
     "text": [
      "x is less than y\n"
     ]
    }
   ],
   "source": [
    "# In Python, we can use nested if-else statements to create a conditional statement that checks multiple conditions and performs different actions based on the conditions. \n",
    "# Here is an example:\n",
    "\n",
    "x = 5\n",
    "y = 10\n",
    "\n",
    "if x > y:\n",
    "    print(\"x is greater than y\")\n",
    "elif x == y:\n",
    "    print(\"x is equal to y\")\n",
    "else:\n",
    "    print(\"x is less than y\")"
   ]
  },
  {
   "cell_type": "markdown",
   "id": "e052e072-0d81-43a9-8d41-a75129ce03f4",
   "metadata": {},
   "source": [
    "#### 4. Write a Python program to determine the largest of three numbers using if-else."
   ]
  },
  {
   "cell_type": "code",
   "execution_count": 47,
   "id": "d266b82c-b2e0-4684-a14a-744c321ebb85",
   "metadata": {},
   "outputs": [
    {
     "name": "stdin",
     "output_type": "stream",
     "text": [
      "Enter the first number: 34\n",
      "Enter the second number: 57\n",
      "Enter the third number: 2\n"
     ]
    },
    {
     "name": "stdout",
     "output_type": "stream",
     "text": [
      "The largest number is: 57.0\n"
     ]
    }
   ],
   "source": [
    "try:\n",
    "    # Input three numbers from the user\n",
    "    num1 = float(input(\"Enter the first number:\"))\n",
    "    num2 = float(input(\"Enter the second number:\"))\n",
    "    num3 = float(input(\"Enter the third number:\"))\n",
    "\n",
    "    # Compare the numbers to find the largest one\n",
    "    if num1 >= num2 and num1 >= num3:\n",
    "        largest = num1\n",
    "    elif num2 >= num1 and num2 >= num3:\n",
    "        largest = num2\n",
    "    else:\n",
    "        largest = num3\n",
    "\n",
    "    # Print the result\n",
    "    print(\"The largest number is:\", largest)\n",
    "\n",
    "except ValueError:\n",
    "    print(\"Invalid input. Please enter valid numbers.\")\n"
   ]
  },
  {
   "cell_type": "markdown",
   "id": "d7dcf463-a1b3-4cb7-90cf-8328869bb5dd",
   "metadata": {},
   "source": [
    "#### 5. Write a Python program that calculates the absolute value of a number using if-else."
   ]
  },
  {
   "cell_type": "code",
   "execution_count": 48,
   "id": "43cf5ea7-dfd9-4854-b934-c72bede6f347",
   "metadata": {},
   "outputs": [
    {
     "name": "stdin",
     "output_type": "stream",
     "text": [
      "Enter a number: -282736\n"
     ]
    },
    {
     "name": "stdout",
     "output_type": "stream",
     "text": [
      "The absolute value of -282736.0 is: 282736.0\n"
     ]
    }
   ],
   "source": [
    "try:\n",
    "    # Input a number from the user\n",
    "    number = float(input(\"Enter a number:\"))\n",
    "\n",
    "    # Calculate the absolute value using if-else\n",
    "    if number >= 0:\n",
    "        absolute_value = number\n",
    "    else:\n",
    "        absolute_value = -number\n",
    "\n",
    "    # Print the absolute value\n",
    "    print(\"The absolute value of\", number, \"is:\", absolute_value)\n",
    "\n",
    "except ValueError:\n",
    "    print(\"Invalid input. Please enter a valid number.\")\n"
   ]
  },
  {
   "cell_type": "markdown",
   "id": "00b52d28-eb61-4fb2-9973-73fb4e08f0d7",
   "metadata": {},
   "source": [
    "#### 6. Create a Python program that checks if a given character is a vowel or consonant using if-else."
   ]
  },
  {
   "cell_type": "code",
   "execution_count": 50,
   "id": "9b5ceb84-fdb4-4d98-aba7-8431db9fcfd7",
   "metadata": {},
   "outputs": [
    {
     "name": "stdin",
     "output_type": "stream",
     "text": [
      "Enter a character: s\n"
     ]
    },
    {
     "name": "stdout",
     "output_type": "stream",
     "text": [
      "The character s is a consonant.\n"
     ]
    }
   ],
   "source": [
    "try:\n",
    "    # Input a character from the user\n",
    "    char = input(\"Enter a character:\")\n",
    "\n",
    "    # Check if the input is a single character\n",
    "    if len(char) == 1:\n",
    "        # Check if the character is a vowel or consonant using if-else\n",
    "        if char.lower() in 'aeiou':\n",
    "            print(\"The character\", char, \"is a vowel.\")\n",
    "        else:\n",
    "            print(\"The character\", char, \"is a consonant.\")\n",
    "    else:\n",
    "        print(\"Please enter only a single character.\")\n",
    "\n",
    "except ValueError:\n",
    "    print(\"Invalid input. Please enter a valid character.\")\n"
   ]
  },
  {
   "cell_type": "markdown",
   "id": "a102a226-f759-41f0-b104-5fe28df67f1f",
   "metadata": {},
   "source": [
    "#### 7. Write a Python program to determine if a user is eligible to vote based on their age using if-else."
   ]
  },
  {
   "cell_type": "code",
   "execution_count": 51,
   "id": "ccd62e96-6d66-490f-8b3e-14fd786160e7",
   "metadata": {},
   "outputs": [
    {
     "name": "stdin",
     "output_type": "stream",
     "text": [
      "Enter your age: 23\n"
     ]
    },
    {
     "name": "stdout",
     "output_type": "stream",
     "text": [
      "You are eligible to vote.\n"
     ]
    }
   ],
   "source": [
    "try:\n",
    "    # Input age from the user\n",
    "    age = int(input(\"Enter your age:\"))\n",
    "\n",
    "    # Check if the age is non-negative\n",
    "    if age >= 0:\n",
    "        # Check if the user is eligible to vote based on age\n",
    "        if age >= 18:\n",
    "            print(\"You are eligible to vote.\")\n",
    "        else:\n",
    "            print(\"You are not eligible to vote yet.\")\n",
    "    else:\n",
    "        print(\"Invalid age. Please enter a non-negative number.\")\n",
    "\n",
    "except ValueError:\n",
    "    print(\"Invalid input. Please enter a valid age.\")\n"
   ]
  },
  {
   "cell_type": "markdown",
   "id": "30243e2d-d302-4106-925d-9dafaaf507a5",
   "metadata": {},
   "source": [
    "#### 8. Create a Python program that calculates the discount amount based on the purchase amount using if-else."
   ]
  },
  {
   "cell_type": "code",
   "execution_count": 52,
   "id": "f1c7245c-2f90-4a79-b281-78e661175125",
   "metadata": {},
   "outputs": [
    {
     "name": "stdin",
     "output_type": "stream",
     "text": [
      "Enter the purchase amount: 124\n"
     ]
    },
    {
     "name": "stdout",
     "output_type": "stream",
     "text": [
      "Discount amount: 6.2\n"
     ]
    }
   ],
   "source": [
    "try:\n",
    "    # Input the purchase amount from the user\n",
    "    purchase_amount = float(input(\"Enter the purchase amount:\"))\n",
    "\n",
    "    # Calculate the discount based on the purchase amount\n",
    "    if purchase_amount < 100:\n",
    "        discount = 0\n",
    "    elif purchase_amount < 500:\n",
    "        discount = purchase_amount * 0.05\n",
    "    elif purchase_amount < 1000:\n",
    "        discount = purchase_amount * 0.10\n",
    "    else:\n",
    "        discount = purchase_amount * 0.15\n",
    "\n",
    "    # Print the discount amount\n",
    "    print(\"Discount amount:\", discount)\n",
    "\n",
    "except ValueError:\n",
    "    print(\"Invalid input. Please enter a valid purchase amount.\")\n"
   ]
  },
  {
   "cell_type": "markdown",
   "id": "801b0151-f04b-4373-85df-82d2e30a6747",
   "metadata": {},
   "source": [
    "#### 9. Write a Python program to check if a number is within a specified range using if-else."
   ]
  },
  {
   "cell_type": "code",
   "execution_count": 53,
   "id": "8d4c11da-0ae2-4edf-b468-37b0da0152e9",
   "metadata": {},
   "outputs": [
    {
     "name": "stdin",
     "output_type": "stream",
     "text": [
      "Enter a number: 235\n",
      "Enter the lower limit of the range: 23\n",
      "Enter the upper limit of the range: 6732\n"
     ]
    },
    {
     "name": "stdout",
     "output_type": "stream",
     "text": [
      "The number 235.0 is within the specified range.\n"
     ]
    }
   ],
   "source": [
    "try:\n",
    "    # Input the number and the range limits from the user\n",
    "    number = float(input(\"Enter a number:\"))\n",
    "    lower_limit = float(input(\"Enter the lower limit of the range:\"))\n",
    "    upper_limit = float(input(\"Enter the upper limit of the range:\"))\n",
    "\n",
    "    # Check if the number is within the specified range\n",
    "    if lower_limit <= number <= upper_limit:\n",
    "        print(\"The number\", number, \"is within the specified range.\")\n",
    "    else:\n",
    "        print(\"The number\", number, \"is not within the specified range.\")\n",
    "\n",
    "except ValueError:\n",
    "    print(\"Invalid input. Please enter valid numbers.\")\n"
   ]
  },
  {
   "cell_type": "markdown",
   "id": "ebc0584b-515b-4637-aeb6-23c6642481ee",
   "metadata": {},
   "source": [
    "#### 10. Create a Python program that determines the grade of a student based on their score using if-else."
   ]
  },
  {
   "cell_type": "code",
   "execution_count": 55,
   "id": "602be9f0-96c3-42b9-8a5b-b7f3bab614bd",
   "metadata": {},
   "outputs": [
    {
     "name": "stdin",
     "output_type": "stream",
     "text": [
      "Enter the student's score: 32\n"
     ]
    },
    {
     "name": "stdout",
     "output_type": "stream",
     "text": [
      "The student's grade is: F\n"
     ]
    }
   ],
   "source": [
    "try:\n",
    "    # Input the score from the user\n",
    "    score = float(input(\"Enter the student's score:\"))\n",
    "\n",
    "    # Determine the grade based on the score\n",
    "    if score >= 90:\n",
    "        grade = 'A'\n",
    "    elif score >= 80:\n",
    "        grade = 'B'\n",
    "    elif score >= 70:\n",
    "        grade = 'C'\n",
    "    elif score >= 60:\n",
    "        grade = 'D'\n",
    "    else:\n",
    "        grade = 'F'\n",
    "\n",
    "    # Print the grade\n",
    "    print(\"The student's grade is:\", grade)\n",
    "\n",
    "except ValueError:\n",
    "    print(\"Invalid input. Please enter a valid score.\")\n"
   ]
  },
  {
   "cell_type": "markdown",
   "id": "42f1f137-4ebf-4fbe-834c-5a765c016d5a",
   "metadata": {},
   "source": [
    "#### 11. Write a Python program to check if a string is empty or not using if-else."
   ]
  },
  {
   "cell_type": "code",
   "execution_count": 56,
   "id": "45bcfa6e-b8f9-4a7f-a3e3-99d3f67d39db",
   "metadata": {},
   "outputs": [
    {
     "name": "stdin",
     "output_type": "stream",
     "text": [
      "Enter a string: \n"
     ]
    },
    {
     "name": "stdout",
     "output_type": "stream",
     "text": [
      "The string is empty.\n"
     ]
    }
   ],
   "source": [
    "# Input a string from the user\n",
    "string = input(\"Enter a string:\")\n",
    "\n",
    "# Check if the string is empty or not using if-else\n",
    "if string:\n",
    "    print(\"The string is not empty.\")\n",
    "else:\n",
    "    print(\"The string is empty.\")\n"
   ]
  },
  {
   "cell_type": "markdown",
   "id": "cfaace50-8a8e-48d5-8bc5-c8be05946765",
   "metadata": {},
   "source": [
    "#### 12. Create a Python program that identifies the type of a triangle (e.g., equilateral, isosceles, or scalene) based on input values using if-else."
   ]
  },
  {
   "cell_type": "code",
   "execution_count": 57,
   "id": "3e0240fb-fcd9-49c3-b38e-42215b926bd7",
   "metadata": {},
   "outputs": [
    {
     "name": "stdin",
     "output_type": "stream",
     "text": [
      "Enter the length of side 1: 23\n",
      "Enter the length of side 2: 45\n",
      "Enter the length of side 3: 23\n"
     ]
    },
    {
     "name": "stdout",
     "output_type": "stream",
     "text": [
      "The triangle is an isosceles triangle.\n"
     ]
    }
   ],
   "source": [
    "try:\n",
    "    # Input the lengths of the sides of the triangle from the user\n",
    "    side1 = float(input(\"Enter the length of side 1:\"))\n",
    "    side2 = float(input(\"Enter the length of side 2:\"))\n",
    "    side3 = float(input(\"Enter the length of side 3:\"))\n",
    "\n",
    "    # Check if the input values form a valid triangle\n",
    "    if side1 + side2 > side3 and side1 + side3 > side2 and side2 + side3 > side1:\n",
    "        # Check the type of triangle based on side lengths using if-else\n",
    "        if side1 == side2 == side3:\n",
    "            print(\"The triangle is an equilateral triangle.\")\n",
    "        elif side1 == side2 or side1 == side3 or side2 == side3:\n",
    "            print(\"The triangle is an isosceles triangle.\")\n",
    "        else:\n",
    "            print(\"The triangle is a scalene triangle.\")\n",
    "    else:\n",
    "        print(\"The input values do not form a valid triangle.\")\n",
    "\n",
    "except ValueError:\n",
    "    print(\"Invalid input. Please enter valid side lengths.\")\n"
   ]
  },
  {
   "cell_type": "markdown",
   "id": "106016f2-f5a8-4890-9568-6888cd81f55c",
   "metadata": {},
   "source": [
    "#### 13. Write a Python program to determine the day of the week based on a user-provided number using if-else."
   ]
  },
  {
   "cell_type": "code",
   "execution_count": 58,
   "id": "b1dc1d9a-7c97-41d3-b70e-967c3a1515b3",
   "metadata": {},
   "outputs": [
    {
     "name": "stdin",
     "output_type": "stream",
     "text": [
      "Enter the day number (1 for Monday, 2 for Tuesday, etc.): 4\n"
     ]
    },
    {
     "name": "stdout",
     "output_type": "stream",
     "text": [
      "The day corresponding to day number 4 is: Thursday\n"
     ]
    }
   ],
   "source": [
    "try:\n",
    "    # Input the day number from the user\n",
    "    day_number = int(input(\"Enter the day number (1 for Monday, 2 for Tuesday, etc.):\"))\n",
    "\n",
    "    # Check the day of the week based on the day number using if-else\n",
    "    if day_number == 1:\n",
    "        day_name = \"Monday\"\n",
    "    elif day_number == 2:\n",
    "        day_name = \"Tuesday\"\n",
    "    elif day_number == 3:\n",
    "        day_name = \"Wednesday\"\n",
    "    elif day_number == 4:\n",
    "        day_name = \"Thursday\"\n",
    "    elif day_number == 5:\n",
    "        day_name = \"Friday\"\n",
    "    elif day_number == 6:\n",
    "        day_name = \"Saturday\"\n",
    "    elif day_number == 7:\n",
    "        day_name = \"Sunday\"\n",
    "    else:\n",
    "        day_name = \"Invalid day number\"\n",
    "\n",
    "    # Print the day of the week\n",
    "    print(\"The day corresponding to day number\", day_number, \"is:\", day_name)\n",
    "\n",
    "except ValueError:\n",
    "    print(\"Invalid input. Please enter a valid day number.\")\n"
   ]
  },
  {
   "cell_type": "markdown",
   "id": "d45b3af0-11b7-4a4b-b759-1a50ef0e125f",
   "metadata": {},
   "source": [
    "#### 14. Create a Python program that checks if a given year is a leap year using both if-else and a function."
   ]
  },
  {
   "cell_type": "code",
   "execution_count": 59,
   "id": "6b0a9b46-4bb4-487c-84e8-4b94ab4eb94c",
   "metadata": {},
   "outputs": [
    {
     "name": "stdin",
     "output_type": "stream",
     "text": [
      "Enter a year:  1212\n"
     ]
    },
    {
     "name": "stdout",
     "output_type": "stream",
     "text": [
      "1212 is a leap year.\n"
     ]
    }
   ],
   "source": [
    "def is_leap_year(year):\n",
    "    \"\"\"\n",
    "    Function to check if a given year is a leap year.\n",
    "    \"\"\"\n",
    "    if (year % 4 == 0 and year % 100 != 0) or (year % 400 == 0):\n",
    "        return True\n",
    "    else:\n",
    "        return False\n",
    "\n",
    "try:\n",
    "    # Input the year from the user\n",
    "    year = int(input(\"Enter a year: \"))\n",
    "\n",
    "    # Check if the year is a leap year using the function\n",
    "    if is_leap_year(year):\n",
    "        print(year, \"is a leap year.\")\n",
    "    else:\n",
    "        print(year, \"is not a leap year.\")\n",
    "\n",
    "except ValueError:\n",
    "    print(\"Invalid input. Please enter a valid year.\")\n"
   ]
  },
  {
   "cell_type": "markdown",
   "id": "1b7a1b19-1160-4f02-8fc6-b63716aa1239",
   "metadata": {},
   "source": [
    "#### 15. How do you use the \"assert\" statement in Python to add debugging checks within if-else blocks?"
   ]
  },
  {
   "cell_type": "code",
   "execution_count": 63,
   "id": "46e08e48-d0ea-477f-bff4-fe822e0b9d43",
   "metadata": {},
   "outputs": [
    {
     "name": "stdin",
     "output_type": "stream",
     "text": [
      "Enter the numerator: 2134\n",
      "Enter the denominator: 0\n"
     ]
    },
    {
     "name": "stdout",
     "output_type": "stream",
     "text": [
      "AssertionError: Denominator cannot be zero.\n"
     ]
    }
   ],
   "source": [
    "\"\"\"\n",
    "In Python, the assert statement is used for debugging purposes to assert that a certain condition is true. \n",
    "If the condition evaluates to True, the program continues execution as usual. \n",
    "However, if the condition evaluates to False, an AssertionError exception is raised, indicating that there is a bug or an unexpected condition in the code.\n",
    "\n",
    "Here's an example:\n",
    "\"\"\";\n",
    "\n",
    "def divide(a, b):\n",
    "    assert b != 0, \"Division by zero is not allowed.\"\n",
    "    return a / b\n",
    "\n",
    "try:\n",
    "    numerator = int(input(\"Enter the numerator:\"))\n",
    "    denominator = int(input(\"Enter the denominator:\"))\n",
    "    \n",
    "    # Check if the denominator is zero using assert\n",
    "    assert denominator != 0, \"Denominator cannot be zero.\"\n",
    "    \n",
    "    result = divide(numerator, denominator)\n",
    "    print(\"Result of division:\", result)\n",
    "\n",
    "except ValueError:\n",
    "    print(\"Invalid input. Please enter valid numbers.\")\n",
    "except AssertionError as e:\n",
    "    print(\"AssertionError:\", e)\n"
   ]
  },
  {
   "cell_type": "markdown",
   "id": "28e94624-8882-44d6-b676-97d91f945f1e",
   "metadata": {},
   "source": [
    "#### 16. Create a Python program that determines the eligibility of a person for a senior citizen discount based on age using if-else."
   ]
  },
  {
   "cell_type": "code",
   "execution_count": 64,
   "id": "f870f9f4-6e19-4bd4-a7d4-26801da5362a",
   "metadata": {},
   "outputs": [
    {
     "name": "stdin",
     "output_type": "stream",
     "text": [
      "Enter your age: 334\n"
     ]
    },
    {
     "name": "stdout",
     "output_type": "stream",
     "text": [
      "Congratulations! You are eligible for a senior citizen discount.\n"
     ]
    }
   ],
   "source": [
    "try:\n",
    "    # Input the age from the user\n",
    "    age = int(input(\"Enter your age:\"))\n",
    "\n",
    "    # Check eligibility for senior citizen discount based on age\n",
    "    if age >= 60:\n",
    "        print(\"Congratulations! You are eligible for a senior citizen discount.\")\n",
    "    else:\n",
    "        print(\"Sorry, you are not eligible for a senior citizen discount.\")\n",
    "\n",
    "except ValueError:\n",
    "    print(\"Invalid input. Please enter a valid age.\")\n"
   ]
  },
  {
   "cell_type": "markdown",
   "id": "23c8b1fc-88a1-4634-bf9a-1220cdf4a00c",
   "metadata": {},
   "source": [
    "#### 17. Write a Python program to categorize a given character as uppercase, lowercase, or neither using if-else."
   ]
  },
  {
   "cell_type": "code",
   "execution_count": 65,
   "id": "d809e262-75ce-4d48-bdf6-fa98bf29b908",
   "metadata": {},
   "outputs": [
    {
     "name": "stdin",
     "output_type": "stream",
     "text": [
      "Enter a character: D\n"
     ]
    },
    {
     "name": "stdout",
     "output_type": "stream",
     "text": [
      "The character D is uppercase.\n"
     ]
    }
   ],
   "source": [
    "try:\n",
    "    # Input a character from the user\n",
    "    char = input(\"Enter a character:\")\n",
    "\n",
    "    # Check if the input is a single character\n",
    "    if len(char) == 1:\n",
    "        # Check if the character is uppercase using isupper() method\n",
    "        if char.isupper():\n",
    "            print(\"The character\", char, \"is uppercase.\")\n",
    "        # Check if the character is lowercase using islower() method\n",
    "        elif char.islower():\n",
    "            print(\"The character\", char, \"is lowercase.\")\n",
    "        else:\n",
    "            print(\"The character\", char, \"is neither uppercase nor lowercase.\")\n",
    "    else:\n",
    "        print(\"Please enter only a single character.\")\n",
    "\n",
    "except ValueError:\n",
    "    print(\"Invalid input. Please enter a valid character.\")\n"
   ]
  },
  {
   "cell_type": "markdown",
   "id": "2f969787-19fe-46bc-a18e-fd77ecef7ec5",
   "metadata": {},
   "source": [
    "#### 18. Write a Python program to determine the roots of a quadratic equation using if-else."
   ]
  },
  {
   "cell_type": "code",
   "execution_count": 66,
   "id": "db734d13-6d60-4d2d-856f-65ab2ffdb5c9",
   "metadata": {},
   "outputs": [
    {
     "name": "stdin",
     "output_type": "stream",
     "text": [
      "Enter the coefficient of x^2: 34\n",
      "Enter the coefficient of x: 4\n",
      "Enter the constant term: 21\n"
     ]
    },
    {
     "name": "stdout",
     "output_type": "stream",
     "text": [
      "The roots of the quadratic equation are: -0.058823529411764705 + 0.7837007408514252 i and -0.058823529411764705 - 0.7837007408514252 i\n"
     ]
    }
   ],
   "source": [
    "import math\n",
    "\n",
    "try:\n",
    "    # Input coefficients of the quadratic equation\n",
    "    a = float(input(\"Enter the coefficient of x^2:\"))\n",
    "    b = float(input(\"Enter the coefficient of x:\"))\n",
    "    c = float(input(\"Enter the constant term:\"))\n",
    "\n",
    "    # Calculate the discriminant\n",
    "    discriminant = b**2 - 4*a*c\n",
    "\n",
    "    # Check if the discriminant is positive, negative, or zero\n",
    "    if discriminant > 0:\n",
    "        # Two distinct real roots\n",
    "        root1 = (-b + math.sqrt(discriminant)) / (2*a)\n",
    "        root2 = (-b - math.sqrt(discriminant)) / (2*a)\n",
    "        print(\"The roots of the quadratic equation are:\", root1, \"and\", root2)\n",
    "    elif discriminant == 0:\n",
    "        # One real root (repeated)\n",
    "        root = -b / (2*a)\n",
    "        print(\"The root of the quadratic equation is:\", root)\n",
    "    else:\n",
    "        # No real roots (complex roots)\n",
    "        real_part = -b / (2*a)\n",
    "        imaginary_part = math.sqrt(abs(discriminant)) / (2*a)\n",
    "        print(\"The roots of the quadratic equation are:\", real_part, \"+\", imaginary_part, \"i and\", real_part, \"-\", imaginary_part, \"i\")\n",
    "\n",
    "except ValueError:\n",
    "    print(\"Invalid input. Please enter valid coefficients.\")\n"
   ]
  },
  {
   "cell_type": "markdown",
   "id": "ce10dd4e-40b0-4701-9e23-9b792840a31e",
   "metadata": {},
   "source": [
    "#### 19. Create a Python program that checks if a given year is a century year or not using if-else"
   ]
  },
  {
   "cell_type": "code",
   "execution_count": 67,
   "id": "ce06d1ef-a018-4395-98ca-01d4cfb6813d",
   "metadata": {},
   "outputs": [
    {
     "name": "stdin",
     "output_type": "stream",
     "text": [
      "Enter a year: 3000\n"
     ]
    },
    {
     "name": "stdout",
     "output_type": "stream",
     "text": [
      "3000 is a century year.\n"
     ]
    }
   ],
   "source": [
    "try:\n",
    "    # Input the year from the user\n",
    "    year = int(input(\"Enter a year:\"))\n",
    "\n",
    "    # Check if the year is a century year using if-else\n",
    "    if year % 100 == 0:\n",
    "        print(year, \"is a century year.\")\n",
    "    else:\n",
    "        print(year, \"is not a century year.\")\n",
    "\n",
    "except ValueError:\n",
    "    print(\"Invalid input. Please enter a valid year.\")\n"
   ]
  },
  {
   "cell_type": "markdown",
   "id": "504b9066-be05-4e79-afa9-51ec9b9fc390",
   "metadata": {},
   "source": [
    "#### 20. Write a Python program to determine if a given number is a perfect square using if-else"
   ]
  },
  {
   "cell_type": "code",
   "execution_count": 68,
   "id": "0fecbef7-b4aa-4b4d-aaca-b427b3fb61f0",
   "metadata": {},
   "outputs": [
    {
     "name": "stdin",
     "output_type": "stream",
     "text": [
      "Enter a number: 12\n"
     ]
    },
    {
     "name": "stdout",
     "output_type": "stream",
     "text": [
      "12 is not a perfect square.\n"
     ]
    }
   ],
   "source": [
    "try:\n",
    "    # Input the number from the user\n",
    "    num = int(input(\"Enter a number:\"))\n",
    "\n",
    "    # Check if the number is a perfect square using if-else\n",
    "    if num >= 0:\n",
    "        sqrt_num = int(num ** 0.5)  # Square root of the number\n",
    "        if sqrt_num * sqrt_num == num:\n",
    "            print(num, \"is a perfect square.\")\n",
    "        else:\n",
    "            print(num, \"is not a perfect square.\")\n",
    "    else:\n",
    "        print(\"Negative numbers cannot be perfect squares.\")\n",
    "\n",
    "except ValueError:\n",
    "    print(\"Invalid input. Please enter a valid number.\")\n"
   ]
  },
  {
   "cell_type": "markdown",
   "id": "92dc1c33-ff98-445f-9f42-f0930b6c0ae3",
   "metadata": {},
   "source": [
    "#### 21. Explain the purpose of the \"continue\" and \"break\" statements within if-else loops"
   ]
  },
  {
   "cell_type": "code",
   "execution_count": 69,
   "id": "6b4c66ac-4650-4e92-b9ca-1c9c9cd9e371",
   "metadata": {},
   "outputs": [
    {
     "name": "stdout",
     "output_type": "stream",
     "text": [
      "0\n",
      "1\n",
      "3\n",
      "4\n",
      "0\n",
      "1\n"
     ]
    }
   ],
   "source": [
    "# The continue and break statements are used within if-else loops to control the flow of the program.\n",
    "\n",
    "# Continue Statement:\n",
    "# The continue statement is used to skip the rest of the current iteration of the loop and continue with the next iteration. \n",
    "\n",
    "# Example:\n",
    "\n",
    "for i in range(5):\n",
    "    if i == 2:\n",
    "        continue\n",
    "    print(i)\n",
    "    \n",
    "# Break Statement:\n",
    "\n",
    "# The break statement is used to exit the loop entirely. \n",
    "# It is used to stop the execution of the loop and move on to the next statement after the loop.\n",
    "\n",
    "# Example:\n",
    "\n",
    "for i in range(5):\n",
    "    if i == 2:\n",
    "        break\n",
    "    print(i)"
   ]
  },
  {
   "cell_type": "markdown",
   "id": "08b5dc1c-fb39-4694-b1aa-bc8911922803",
   "metadata": {},
   "source": [
    "#### 22. Create a Python program that calculates the BMI (Body Mass Index) of a person based on their weight and height using if-else."
   ]
  },
  {
   "cell_type": "code",
   "execution_count": 71,
   "id": "37d2e000-9350-4f85-b139-1da5a20afac2",
   "metadata": {},
   "outputs": [
    {
     "name": "stdin",
     "output_type": "stream",
     "text": [
      "Enter your weight in kilograms: 213\n",
      "Enter your height in meters: 2\n"
     ]
    },
    {
     "name": "stdout",
     "output_type": "stream",
     "text": [
      "Your BMI is: 53.25\n",
      "You are obese.\n"
     ]
    }
   ],
   "source": [
    "try:\n",
    "    # Input weight in kilograms and height in meters from the user\n",
    "    weight = float(input(\"Enter your weight in kilograms:\"))\n",
    "    height = float(input(\"Enter your height in meters:\"))\n",
    "\n",
    "    # Calculate BMI\n",
    "    bmi = weight / (height ** 2)\n",
    "\n",
    "    # Print BMI and corresponding category\n",
    "    print(\"Your BMI is:\", bmi)\n",
    "    if bmi < 18.5:\n",
    "        print(\"You are underweight.\")\n",
    "    elif bmi >= 18.5 and bmi < 25:\n",
    "        print(\"Your weight is normal (healthy).\")\n",
    "    elif bmi >= 25 and bmi < 30:\n",
    "        print(\"You are overweight.\")\n",
    "    else:\n",
    "        print(\"You are obese.\")\n",
    "\n",
    "except ValueError:\n",
    "    print(\"Invalid input. Please enter valid weight and height.\")\n"
   ]
  },
  {
   "cell_type": "markdown",
   "id": "0340946c-f819-43ac-bd3c-7a19db84fc4f",
   "metadata": {},
   "source": [
    "#### 23. How can you use the \"filter()\" function with if-else statements to filter elements from a list?"
   ]
  },
  {
   "cell_type": "code",
   "execution_count": 72,
   "id": "a5496d18-8d7f-4354-b39b-7f153726f269",
   "metadata": {},
   "outputs": [
    {
     "name": "stdout",
     "output_type": "stream",
     "text": [
      "[2, 4, 6, 8, 10]\n"
     ]
    }
   ],
   "source": [
    "# The filter() function in Python is used to filter elements from a list based on a given condition. \n",
    "# It takes two arguments: a function and an iterable. \n",
    "# The function is applied to each element in the iterable, and the elements for which the function returns True are included in the result.\n",
    "\n",
    "# Here is an example:\n",
    "\n",
    "def is_even(x):\n",
    "    if x % 2 == 0:\n",
    "        return True\n",
    "    else:\n",
    "        return False\n",
    "\n",
    "numbers = [1, 2, 3, 4, 5, 6, 7, 8, 9, 10]\n",
    "even_numbers = list(filter(is_even, numbers))\n",
    "\n",
    "print(even_numbers)"
   ]
  },
  {
   "cell_type": "markdown",
   "id": "99b1f134-cc01-4438-95cb-1042b70d1b2c",
   "metadata": {},
   "source": [
    "#### 24. Write a Python program to determine if a given number is prime or not using if-else."
   ]
  },
  {
   "cell_type": "code",
   "execution_count": 73,
   "id": "fb41b3c9-1024-4976-a1c6-b0e091851f08",
   "metadata": {},
   "outputs": [
    {
     "name": "stdin",
     "output_type": "stream",
     "text": [
      "Enter a number: 2334\n"
     ]
    },
    {
     "name": "stdout",
     "output_type": "stream",
     "text": [
      "2334 is not a prime number.\n"
     ]
    }
   ],
   "source": [
    "try:\n",
    "    # Input the number from the user\n",
    "    num = int(input(\"Enter a number:\"))\n",
    "\n",
    "    # Check if the number is greater than 1\n",
    "    if num > 1:\n",
    "        # Check for factors from 2 to the square root of the number\n",
    "        for i in range(2, int(num**0.5) + 1):\n",
    "            if num % i == 0:\n",
    "                print(num, \"is not a prime number.\")\n",
    "                break\n",
    "        else:\n",
    "            print(num, \"is a prime number.\")\n",
    "    else:\n",
    "        print(num, \"is not a prime number.\")\n",
    "\n",
    "except ValueError:\n",
    "    print(\"Invalid input. Please enter a valid number.\")\n"
   ]
  },
  {
   "cell_type": "markdown",
   "id": "d6018ed0-db62-4d1d-a495-60bff3afcedd",
   "metadata": {},
   "source": [
    "# Map :-"
   ]
  },
  {
   "cell_type": "markdown",
   "id": "1c28284b-6351-4a14-b3cf-51cc33066e9f",
   "metadata": {},
   "source": [
    "#### 1. Explain the purpose of the `map()` function in Python and provide an example of how it can be used to apply a function to each element of an iterable."
   ]
  },
  {
   "cell_type": "code",
   "execution_count": 75,
   "id": "5c990c7e-4afc-40be-b6ec-5a5f250f9818",
   "metadata": {},
   "outputs": [
    {
     "name": "stdout",
     "output_type": "stream",
     "text": [
      "[2, 4, 6, 8, 10]\n"
     ]
    }
   ],
   "source": [
    "# The map function applies a function to each element in a sequence and returns a new sequence containing the transformed elements. \n",
    "# The map function has the following syntax:\n",
    "# map(function, iterable)\n",
    "\n",
    "# The function argument is a function that is applied to each element in the iterable argument. \n",
    "# The iterable argument can be a list, tuple, or any other iterable object.\n",
    "\n",
    "# Here is an example:\n",
    "\n",
    "# List of numbers\n",
    "numbers = [1, 2, 3, 4, 5]\n",
    "\n",
    "# Double each number using the map function\n",
    "doubled = map(lambda x: x * 2, numbers)\n",
    "\n",
    "# Print the doubled numbers\n",
    "print(list(doubled))"
   ]
  },
  {
   "cell_type": "markdown",
   "id": "89fa6289-a71e-4991-baa0-4738f95bd88e",
   "metadata": {},
   "source": [
    "#### 2. Write a Python program that uses the `map()` function to square each element of a list of numbers."
   ]
  },
  {
   "cell_type": "code",
   "execution_count": 78,
   "id": "8d8cb352-ae9e-4516-996b-93e45ed00d79",
   "metadata": {},
   "outputs": [
    {
     "name": "stdout",
     "output_type": "stream",
     "text": [
      "[1, 4, 9, 16, 25]\n"
     ]
    }
   ],
   "source": [
    "# List of numbers\n",
    "numbers = [1, 2, 3, 4, 5]\n",
    "\n",
    "# Square each number using the map function\n",
    "squared = map(lambda x: x ** 2, numbers)\n",
    "\n",
    "# Print the squared numbers\n",
    "print(list(squared))"
   ]
  },
  {
   "cell_type": "markdown",
   "id": "9e589cc0-cf24-453e-8274-dcf21b1d8870",
   "metadata": {},
   "source": [
    "#### 3. How does the `map()` function differ from a list comprehension in Python, and when would you choose one over the other?"
   ]
  },
  {
   "cell_type": "code",
   "execution_count": 80,
   "id": "a5117c4e-7af5-40c7-a3dc-6d42e51d17f9",
   "metadata": {},
   "outputs": [],
   "source": [
    "'''\n",
    "List comprehensions are more commonly used in Python due to their concise syntax and readability, especially for complex operations. \n",
    "However, map() can be useful in specific cases where we need to apply a simple function to an iterable or create an iterator instead of a list.\n",
    "\n",
    "Choose map() over a list comprehension when:\n",
    "\n",
    "We need to apply a simple function to each item of an iterable.\n",
    "We want to use a function defined elsewhere, rather than an inline lambda function.\n",
    "We want to create an iterator instead of a list (e.g., for memory efficiency or laziness).\n",
    "\n",
    "Choose a list comprehension over map() when:\n",
    "\n",
    "The operation we want to perform is more complex and involves conditional statements or nested loops.\n",
    "We find the list comprehension syntax more readable and easier to understand, especially for complex operations.\n",
    "We want to create a list directly, without the extra step of converting a map object.\n",
    "''';"
   ]
  },
  {
   "cell_type": "markdown",
   "id": "24174609-b254-4db3-945e-188448cc3a7a",
   "metadata": {},
   "source": [
    "#### 4. Create a Python program that uses the `map()` function to convert a list of names to uppercase."
   ]
  },
  {
   "cell_type": "code",
   "execution_count": 81,
   "id": "01b2314a-8d12-43b9-8323-187e07e52f20",
   "metadata": {},
   "outputs": [
    {
     "name": "stdout",
     "output_type": "stream",
     "text": [
      "['ALICE', 'BOB', 'CHARLIE', 'DAVID']\n"
     ]
    }
   ],
   "source": [
    "# List of names\n",
    "names = ['Alice', 'Bob', 'Charlie', 'David']\n",
    "\n",
    "# Use map() function to convert names to uppercase\n",
    "uppercase_names = map(str.upper, names)\n",
    "\n",
    "# Print the result\n",
    "print(list(uppercase_names))\n"
   ]
  },
  {
   "cell_type": "markdown",
   "id": "647d4c22-dd8b-46f7-8514-4059fe93f9b4",
   "metadata": {},
   "source": [
    "#### 5. Write a Python program that uses the `map()` function to calculate the length of each word in a list of strings."
   ]
  },
  {
   "cell_type": "code",
   "execution_count": 1,
   "id": "a0167080-6d62-493a-a7aa-fd78aa503e36",
   "metadata": {},
   "outputs": [
    {
     "name": "stdout",
     "output_type": "stream",
     "text": [
      "[5, 5, 6, 11]\n"
     ]
    }
   ],
   "source": [
    "# List of strings\n",
    "strings = ['hello', 'world', 'python', 'programming']\n",
    "\n",
    "# Use map() function to calculate the length of each word\n",
    "word_lengths = map(len, strings)\n",
    "\n",
    "# Print the result\n",
    "print(list(word_lengths))\n"
   ]
  },
  {
   "cell_type": "markdown",
   "id": "0ac24c56-dd34-490c-b013-8de20be599ee",
   "metadata": {},
   "source": [
    "#### 6. How can you use the `map()` function to apply a custom function to elements of multiple lists simultaneously in Python?"
   ]
  },
  {
   "cell_type": "code",
   "execution_count": 2,
   "id": "037fe327-433d-4ff0-9ee7-74303c1fffe7",
   "metadata": {},
   "outputs": [
    {
     "name": "stdout",
     "output_type": "stream",
     "text": [
      "[6, 8, 10, 12]\n"
     ]
    }
   ],
   "source": [
    "# Custom function to calculate the sum of corresponding elements from two lists\n",
    "def add(x, y):\n",
    "    return x + y\n",
    "\n",
    "# Two lists of numbers\n",
    "list1 = [1, 2, 3, 4]\n",
    "list2 = [5, 6, 7, 8]\n",
    "\n",
    "# Use map() function to apply the custom function to corresponding elements\n",
    "sums = map(add, list1, list2)\n",
    "\n",
    "# Print the result\n",
    "print(list(sums))\n"
   ]
  },
  {
   "cell_type": "markdown",
   "id": "c6567b08-bed2-46a0-a22d-785cecf45d82",
   "metadata": {},
   "source": [
    "#### 7. Create a Python program that uses `map()` to convert a list of temperatures from Celsius to Fahrenheit."
   ]
  },
  {
   "cell_type": "code",
   "execution_count": 3,
   "id": "f5d228ed-8e90-44bd-994c-f8942d6d186f",
   "metadata": {},
   "outputs": [
    {
     "name": "stdout",
     "output_type": "stream",
     "text": [
      "[32.0, 50.0, 68.0, 86.0, 104.0]\n"
     ]
    }
   ],
   "source": [
    "def celsius_to_fahrenheit(celsius):\n",
    "    return (celsius * 9/5) + 32\n",
    "\n",
    "# List of temperatures in Celsius\n",
    "celsius_temperatures = [0, 10, 20, 30, 40]\n",
    "\n",
    "# Use map() function to apply the custom function to each temperature\n",
    "fahrenheit_temperatures = map(celsius_to_fahrenheit, celsius_temperatures)\n",
    "\n",
    "# Print the result\n",
    "print(list(fahrenheit_temperatures))"
   ]
  },
  {
   "cell_type": "markdown",
   "id": "2d908bde-d942-4d8a-847d-9bdac57cc349",
   "metadata": {},
   "source": [
    "#### 8. Write a Python program that uses the `map()` function to round each element of a list of floating-point numbers to the nearest integer."
   ]
  },
  {
   "cell_type": "code",
   "execution_count": 4,
   "id": "8a9ca6f4-40cf-4b22-a1e5-8c0c2c6eaba3",
   "metadata": {},
   "outputs": [
    {
     "name": "stdout",
     "output_type": "stream",
     "text": [
      "[3, 3, 1, 5, 1]\n"
     ]
    }
   ],
   "source": [
    "# List of floating-point numbers\n",
    "float_numbers = [3.14, 2.718, 1.414, 4.669, 0.577]\n",
    "\n",
    "# Use map() function to apply the round() function to each floating-point number\n",
    "rounded_integers = map(round, float_numbers)\n",
    "\n",
    "# Print the result\n",
    "print(list(rounded_integers))\n"
   ]
  },
  {
   "cell_type": "markdown",
   "id": "d600c49d-b476-4d87-8d02-3c46f797a198",
   "metadata": {},
   "source": [
    "# Reduce :-"
   ]
  },
  {
   "cell_type": "markdown",
   "id": "5d9722da-f80b-4b67-8381-fa654878f3cc",
   "metadata": {},
   "source": [
    "#### 1. What is the `reduce()` function in Python, and what module should you import to use it? Provide an example of its basic usage."
   ]
  },
  {
   "cell_type": "code",
   "execution_count": 7,
   "id": "74c5e746-928b-4673-8af0-2a73bdc68cf8",
   "metadata": {},
   "outputs": [
    {
     "name": "stdout",
     "output_type": "stream",
     "text": [
      "15\n"
     ]
    }
   ],
   "source": [
    "# The reduce function is a higher-order function that applies a function to a sequence and returns a single value. \n",
    "# It is a part of the functools module in Python and has the following syntax:\n",
    "# reduce(function, iterable)\n",
    "\n",
    "# It is important to note that the reduce function requires the functools module to be imported in order to use it.\n",
    "\n",
    "'''\n",
    "The function argument is a function that takes in two arguments and returns a single value. \n",
    "The iterable argument is a sequence of elements, such as a list or tuple.\n",
    "\n",
    "The reduce function applies the function to the first two elements in the iterable and then applies the function to the result and the next element, and so on. \n",
    "The reduce function returns the final result.\n",
    "\n",
    "Here is an example\n",
    "''';\n",
    "\n",
    "from functools import reduce\n",
    "\n",
    "# List of numbers\n",
    "numbers = [1, 2, 3, 4, 5]\n",
    "\n",
    "# Calculate the sum of the numbers using the reduce function\n",
    "sum = reduce(lambda x, y: x + y, numbers)\n",
    "\n",
    "# Print the sum\n",
    "print(sum)\n",
    "\n"
   ]
  },
  {
   "cell_type": "markdown",
   "id": "34980cf1-7b02-4670-9417-4fd183707ece",
   "metadata": {
    "tags": []
   },
   "source": [
    "#### 2. Write a Python program that uses the `reduce()` function to find the product of all elements in a list."
   ]
  },
  {
   "cell_type": "code",
   "execution_count": 8,
   "id": "51ed018c-3cd1-4cba-afe6-bc54aaeeece4",
   "metadata": {},
   "outputs": [
    {
     "name": "stdout",
     "output_type": "stream",
     "text": [
      "Product of all elements: 120\n"
     ]
    }
   ],
   "source": [
    "from functools import reduce\n",
    "\n",
    "# List of numbers\n",
    "numbers = [1, 2, 3, 4, 5]\n",
    "\n",
    "# Use reduce() function to find the product of all elements in the list\n",
    "product = reduce(lambda x, y: x * y, numbers)\n",
    "\n",
    "# Print the result\n",
    "print(\"Product of all elements:\", product)\n"
   ]
  },
  {
   "cell_type": "markdown",
   "id": "b8672926-2460-4f31-8b0b-71951fe1deba",
   "metadata": {},
   "source": [
    "#### 3. Create a Python program that uses `reduce()` to find the maximum element in a list of numbers."
   ]
  },
  {
   "cell_type": "code",
   "execution_count": 9,
   "id": "cba0f233-36a0-448f-a105-7d8dc38da803",
   "metadata": {},
   "outputs": [
    {
     "name": "stdout",
     "output_type": "stream",
     "text": [
      "Maximum element in the list: 42\n"
     ]
    }
   ],
   "source": [
    "from functools import reduce\n",
    "\n",
    "# List of numbers\n",
    "numbers = [10, 25, 7, 42, 18, 33]\n",
    "\n",
    "# Use reduce() function to find the maximum element in the list\n",
    "max_number = reduce(lambda x, y: x if x > y else y, numbers)\n",
    "\n",
    "# Print the result\n",
    "print(\"Maximum element in the list:\", max_number)\n"
   ]
  },
  {
   "cell_type": "markdown",
   "id": "c2a37623-fa85-4467-baf5-feed26d4f91d",
   "metadata": {},
   "source": [
    "#### 4. How can you use the `reduce()` function to concatenate a list of strings into a single string?"
   ]
  },
  {
   "cell_type": "code",
   "execution_count": 10,
   "id": "eedb0b65-5d6e-469a-b7d2-e6d3e218b26a",
   "metadata": {},
   "outputs": [
    {
     "name": "stdout",
     "output_type": "stream",
     "text": [
      "Concatenated string: Hello world!\n"
     ]
    }
   ],
   "source": [
    "from functools import reduce\n",
    "\n",
    "# List of strings\n",
    "strings = ['Hello', ' ', 'world', '!']\n",
    "\n",
    "# Use reduce() function to concatenate the strings\n",
    "concatenated_string = reduce(lambda x, y: x + y, strings)\n",
    "\n",
    "# Print the result\n",
    "print(\"Concatenated string:\", concatenated_string)\n"
   ]
  },
  {
   "cell_type": "markdown",
   "id": "867f3d53-8a89-4ba7-9e43-47288df48bca",
   "metadata": {},
   "source": [
    "#### 5. Write a Python program that calculates the factorial of a number using the `reduce()` function"
   ]
  },
  {
   "cell_type": "code",
   "execution_count": 12,
   "id": "324ac148-f2b4-406a-ada5-e9d4e942f772",
   "metadata": {},
   "outputs": [
    {
     "name": "stdin",
     "output_type": "stream",
     "text": [
      "Enter a number: 6\n"
     ]
    },
    {
     "name": "stdout",
     "output_type": "stream",
     "text": [
      "Factorial of 6 is: 720\n"
     ]
    }
   ],
   "source": [
    "from functools import reduce\n",
    "\n",
    "# Function to calculate the factorial of a number\n",
    "def factorial(n):\n",
    "    if n == 0:\n",
    "        return 1\n",
    "    else:\n",
    "        return reduce(lambda x, y: x * y, range(1, n + 1))  # When num = 1, since there is only one number in the range, the reduce() function would return that number without performing any multiplication.\n",
    "\n",
    "# Input the number from the user\n",
    "num = int(input(\"Enter a number:\"))\n",
    "\n",
    "# Calculate the factorial using the factorial function\n",
    "result = factorial(num)\n",
    "\n",
    "# Print the result\n",
    "print(\"Factorial of\", num, \"is:\", result)\n"
   ]
  },
  {
   "cell_type": "markdown",
   "id": "f965b810-2312-427c-bb21-385c1bf7883c",
   "metadata": {},
   "source": [
    "#### 6. Create a Python program that uses `reduce()` to find the GCD (Greatest Common Divisor) of a list of numbers."
   ]
  },
  {
   "cell_type": "code",
   "execution_count": 13,
   "id": "39b338fa-128f-4478-91e5-5ae2ac183190",
   "metadata": {},
   "outputs": [
    {
     "name": "stdout",
     "output_type": "stream",
     "text": [
      "GCD of the numbers: 12\n"
     ]
    }
   ],
   "source": [
    "from functools import reduce\n",
    "import math\n",
    "\n",
    "# Helper function to find the GCD of two numbers\n",
    "def gcd(x, y):\n",
    "    return math.gcd(x, y)\n",
    "\n",
    "# List of numbers\n",
    "numbers = [24, 36, 48, 60]\n",
    "\n",
    "# Use reduce() function to find the GCD of all numbers in the list\n",
    "gcd_result = reduce(gcd, numbers)\n",
    "\n",
    "# Print the result\n",
    "print(\"GCD of the numbers:\", gcd_result)\n"
   ]
  },
  {
   "cell_type": "markdown",
   "id": "5287cf47-bc7e-4669-aa3e-3b150addf8df",
   "metadata": {},
   "source": [
    "#### 7. Write a Python program that uses the `reduce()` function to find the sum of the digits of a given number."
   ]
  },
  {
   "cell_type": "code",
   "execution_count": 15,
   "id": "b8037f58-5a28-4ccd-8b3f-bd8f9aa1bb7b",
   "metadata": {},
   "outputs": [
    {
     "name": "stdin",
     "output_type": "stream",
     "text": [
      "Enter a number: 46247\n"
     ]
    },
    {
     "name": "stdout",
     "output_type": "stream",
     "text": [
      "Sum of digits of 46247 is: 23\n"
     ]
    }
   ],
   "source": [
    "from functools import reduce\n",
    "\n",
    "# Function to calculate the sum of digits of a number\n",
    "def sum_of_digits(num):\n",
    "    # Convert the number to a string and then to a list of its digits\n",
    "    digits = list(str(num))\n",
    "    # Convert each digit back to an integer and sum them up\n",
    "    return reduce(lambda x, y: int(x) + int(y), digits)\n",
    "\n",
    "# Input the number from the user\n",
    "num = int(input(\"Enter a number:\"))\n",
    "\n",
    "# Calculate the sum of digits using the sum_of_digits function\n",
    "result = sum_of_digits(num)\n",
    "\n",
    "# Print the result\n",
    "print(\"Sum of digits of\", num, \"is:\", result)\n"
   ]
  },
  {
   "cell_type": "markdown",
   "id": "8682f263-1615-4978-8a31-98fcacb2e38d",
   "metadata": {},
   "source": [
    "# Filter :-"
   ]
  },
  {
   "cell_type": "markdown",
   "id": "24d975e7-40c6-48e4-abf2-12abc69f21a8",
   "metadata": {},
   "source": [
    "#### 1. Explain the purpose of the `filter()` function in Python and provide an example of how it can be used to filter elements from an iterable."
   ]
  },
  {
   "cell_type": "code",
   "execution_count": 18,
   "id": "f17c3bef-a9b4-49ad-ac6b-b7612a464f32",
   "metadata": {},
   "outputs": [
    {
     "name": "stdout",
     "output_type": "stream",
     "text": [
      "[1, 3, 5]\n"
     ]
    }
   ],
   "source": [
    "# The filter function filters a sequence of elements based on a given predicate (a function that returns a boolean value) and \n",
    "# returns a new sequence containing only the elements that meet the predicate. \n",
    "# The filter function has the following syntax:\n",
    "# filter(predicate, iterable)\n",
    "\n",
    "# The predicate argument is a function that returns a boolean value and is applied to each element in the iterable argument. \n",
    "# The iterable argument can be a list, tuple, or any other iterable object.\n",
    "# Here is an example:\n",
    "\n",
    "# List of numbers\n",
    "numbers = [1, 2, 3, 4, 5]\n",
    "\n",
    "# Get only the odd numbers using the filter function\n",
    "odd = filter(lambda x: x % 2 != 0, numbers)\n",
    "\n",
    "# Print the odd numbers\n",
    "print(list(odd))"
   ]
  },
  {
   "cell_type": "markdown",
   "id": "7e72243c-1651-4e5c-b7d3-9028e5bf41c9",
   "metadata": {},
   "source": [
    "#### 2. Write a Python program that uses the `filter()` function to select even numbers from a list of integers."
   ]
  },
  {
   "cell_type": "code",
   "execution_count": 19,
   "id": "eb1dadcd-eb40-4960-b948-e52ce3c2fc5d",
   "metadata": {},
   "outputs": [
    {
     "name": "stdout",
     "output_type": "stream",
     "text": [
      "[2, 4]\n"
     ]
    }
   ],
   "source": [
    "# List of numbers\n",
    "numbers = [1, 2, 3, 4, 5]\n",
    "\n",
    "# Get only the even numbers using the filter function\n",
    "evens = filter(lambda x: x % 2 == 0, numbers)\n",
    "\n",
    "# Print the even numbers\n",
    "print(list(evens))"
   ]
  },
  {
   "cell_type": "markdown",
   "id": "9e5e1ae2-9663-42b0-832b-5985a2c58f21",
   "metadata": {},
   "source": [
    "#### 3. Create a Python program that uses the `filter()` function to select names that start with a specific letter from a list of strings."
   ]
  },
  {
   "cell_type": "code",
   "execution_count": 20,
   "id": "6a4cc437-0d12-4959-a294-8d939151d6d2",
   "metadata": {},
   "outputs": [
    {
     "name": "stdout",
     "output_type": "stream",
     "text": [
      "Names starting with letter D:\n",
      "David\n"
     ]
    }
   ],
   "source": [
    "# List of names\n",
    "names = [\"Alice\", \"Bob\", \"Charlie\", \"David\", \"Eve\", \"Frank\"]\n",
    "\n",
    "# Specific letter to filter by\n",
    "specific_letter = \"D\"\n",
    "\n",
    "# Use filter() function to select names starting with the specific letter\n",
    "filtered_names = filter(lambda name: name.startswith(specific_letter), names)\n",
    "\n",
    "# Print the filtered names\n",
    "print(\"Names starting with letter\", specific_letter + \":\")\n",
    "for name in filtered_names:\n",
    "    print(name)\n"
   ]
  },
  {
   "cell_type": "markdown",
   "id": "cb51d949-207d-48b4-beed-632389288c63",
   "metadata": {},
   "source": [
    "#### 4. Write a Python program that uses the `filter()` function to select prime numbers from a list of integers."
   ]
  },
  {
   "cell_type": "code",
   "execution_count": 21,
   "id": "f36b82dc-64c5-4f6f-a3c7-b4d90b028693",
   "metadata": {},
   "outputs": [
    {
     "name": "stdout",
     "output_type": "stream",
     "text": [
      "Prime numbers from the list:\n",
      "[2, 3, 5, 7, 11, 13]\n"
     ]
    }
   ],
   "source": [
    "# Function to check if a number is prime\n",
    "def is_prime(n):\n",
    "    if n < 2:\n",
    "        return False\n",
    "    for i in range(2, int(n**0.5) + 1):\n",
    "        if n % i == 0:\n",
    "            return False\n",
    "    return True\n",
    "\n",
    "# List of integers\n",
    "numbers = [2, 3, 4, 5, 6, 7, 8, 9, 10, 11, 12, 13, 14, 15]\n",
    "\n",
    "# Use filter() function to select prime numbers\n",
    "prime_numbers = filter(is_prime, numbers)\n",
    "\n",
    "# Print the prime numbers\n",
    "print(\"Prime numbers from the list:\")\n",
    "print(list(prime_numbers))\n"
   ]
  },
  {
   "cell_type": "markdown",
   "id": "60adbf1b-50c0-48b0-b10a-c428829398d6",
   "metadata": {},
   "source": [
    "#### 5. How can you use the `filter()` function to remove None values from a list in Python?"
   ]
  },
  {
   "cell_type": "code",
   "execution_count": 22,
   "id": "cb8a9922-9057-47a3-8ffa-5563ef329769",
   "metadata": {},
   "outputs": [
    {
     "name": "stdout",
     "output_type": "stream",
     "text": [
      "List after removing None values: [1, 3, 5, 7, 9]\n"
     ]
    }
   ],
   "source": [
    "# List with None values\n",
    "values = [1, None, 3, None, 5, None, 7, None, 9]\n",
    "\n",
    "# Use filter() function to remove None values\n",
    "filtered_values = filter(lambda x: x is not None, values)\n",
    "\n",
    "# Convert the filtered values iterator to a list\n",
    "result = list(filtered_values)\n",
    "\n",
    "# Print the result\n",
    "print(\"List after removing None values:\", result)\n"
   ]
  },
  {
   "cell_type": "markdown",
   "id": "07fd545d-71f4-45c8-b679-bd05e78349fa",
   "metadata": {},
   "source": [
    "#### 6. Create a Python program that uses `filter()` to select words longer than a certain length from a list of strings."
   ]
  },
  {
   "cell_type": "code",
   "execution_count": 23,
   "id": "a30cd62f-472e-47d0-ba74-a09978c8070e",
   "metadata": {},
   "outputs": [
    {
     "name": "stdout",
     "output_type": "stream",
     "text": [
      "Words longer than 5 characters:\n",
      "banana\n",
      "orange\n",
      "pineapple\n"
     ]
    }
   ],
   "source": [
    "# List of strings\n",
    "words = [\"apple\", \"banana\", \"orange\", \"grape\", \"kiwi\", \"pineapple\"]\n",
    "\n",
    "# Minimum length to filter by\n",
    "min_length = 5\n",
    "\n",
    "# Use filter() function to select words longer than the minimum length\n",
    "filtered_words = filter(lambda word: len(word) > min_length, words)\n",
    "\n",
    "# Print the filtered words\n",
    "print(\"Words longer than\", min_length, \"characters:\")\n",
    "for word in filtered_words:\n",
    "    print(word)\n"
   ]
  },
  {
   "cell_type": "markdown",
   "id": "ae339a0d-cad1-44c2-becf-44f2932e57c1",
   "metadata": {},
   "source": [
    "#### 7. Write a Python program that uses the `filter()` function to select elements greater than a specified threshold from a list of values."
   ]
  },
  {
   "cell_type": "code",
   "execution_count": 24,
   "id": "b123dce7-0517-4869-ac1b-7365d824a038",
   "metadata": {},
   "outputs": [
    {
     "name": "stdout",
     "output_type": "stream",
     "text": [
      "Values greater than 30 :\n",
      "40\n",
      "50\n",
      "60\n"
     ]
    }
   ],
   "source": [
    "# List of values\n",
    "values = [10, 20, 30, 40, 50, 60]\n",
    "\n",
    "# Threshold to filter by\n",
    "threshold = 30\n",
    "\n",
    "# Use filter() function to select elements greater than the threshold\n",
    "filtered_values = filter(lambda x: x > threshold, values)\n",
    "\n",
    "# Print the filtered values\n",
    "print(\"Values greater than\", threshold, \":\")\n",
    "for value in filtered_values:\n",
    "    print(value)\n"
   ]
  },
  {
   "cell_type": "markdown",
   "id": "edbabff1-d7cc-4c53-bf01-4fbc7f178e68",
   "metadata": {},
   "source": [
    "# Recursion:-"
   ]
  },
  {
   "cell_type": "markdown",
   "id": "270d9b26-be4d-4ca4-b168-56a5fbc289de",
   "metadata": {},
   "source": [
    "#### 1. Explain the concept of recursion in Python. How does it differ from iteration?"
   ]
  },
  {
   "cell_type": "code",
   "execution_count": 26,
   "id": "514a3f2b-1d5a-4359-bef8-b292984cdc67",
   "metadata": {},
   "outputs": [],
   "source": [
    "# Recursion in Python involves a function calling itself to solve smaller instances of the same problem until a base case is reached. \n",
    "# It's suited for problems that can be broken down into smaller, similar subproblems.\n",
    "\n",
    "def factorial(n):\n",
    "    if n == 0:\n",
    "        return 1\n",
    "    else:\n",
    "        return n * factorial(n-1)\n",
    "\n",
    "    \n",
    "# Iteration, on the other hand, involves using loop structures like for or while to repeatedly execute a block of code until a certain condition is met. \n",
    "# It's used when the problem can be solved by performing the same set of operations repeatedly.\n",
    "\n",
    "def factorial(n):\n",
    "    result = 1\n",
    "    for i in range(1, n + 1):\n",
    "        result *= i\n",
    "    return result\n"
   ]
  },
  {
   "cell_type": "markdown",
   "id": "d3253e3d-0725-4fcc-8fc6-f52cf8bd5ad6",
   "metadata": {},
   "source": [
    "#### 2. Write a Python program to calculate the factorial of a number using recursion."
   ]
  },
  {
   "cell_type": "code",
   "execution_count": 27,
   "id": "27b7ac87-a5ad-4b69-9077-9461f25fe1bd",
   "metadata": {},
   "outputs": [
    {
     "name": "stdout",
     "output_type": "stream",
     "text": [
      "Factorial of 5 is: 120\n"
     ]
    }
   ],
   "source": [
    "def factorial(n):\n",
    "    if n == 0:\n",
    "        return 1\n",
    "    else:\n",
    "        return n * factorial(n - 1)\n",
    "\n",
    "# Test the function\n",
    "number = 5\n",
    "print(\"Factorial of\", number, \"is:\", factorial(number))\n"
   ]
  },
  {
   "cell_type": "markdown",
   "id": "cb14409b-4393-4d06-8ce1-2a2623f1224b",
   "metadata": {},
   "source": [
    "#### 3. Create a recursive Python function to find the nth Fibonacci number."
   ]
  },
  {
   "cell_type": "code",
   "execution_count": 28,
   "id": "42bc9a94-e73e-4286-ac84-f36ee7eee252",
   "metadata": {},
   "outputs": [
    {
     "name": "stdout",
     "output_type": "stream",
     "text": [
      "Fibonacci number at position 6 is: 8\n"
     ]
    }
   ],
   "source": [
    "def fibonacci(n):\n",
    "    if n <= 1:\n",
    "        return n\n",
    "    else:\n",
    "        return fibonacci(n - 1) + fibonacci(n - 2)\n",
    "\n",
    "# Test the function\n",
    "n = 6\n",
    "print(\"Fibonacci number at position\", n, \"is:\", fibonacci(n))\n"
   ]
  },
  {
   "cell_type": "markdown",
   "id": "db2997d4-412f-44e9-9087-18158a9db2c6",
   "metadata": {},
   "source": [
    "#### 4. Write a recursive Python function to calculate the sum of all elements in a list."
   ]
  },
  {
   "cell_type": "code",
   "execution_count": 29,
   "id": "0ea56883-8aa4-4de2-98d7-e96ffbc7a8a4",
   "metadata": {},
   "outputs": [
    {
     "name": "stdout",
     "output_type": "stream",
     "text": [
      "Sum of all elements in the list: 15\n"
     ]
    }
   ],
   "source": [
    "def list_sum(lst):\n",
    "    if len(lst) == 0:\n",
    "        return 0\n",
    "    else:\n",
    "        return lst[0] + list_sum(lst[1:])\n",
    "\n",
    "# Test the function\n",
    "my_list = [1, 2, 3, 4, 5]\n",
    "print(\"Sum of all elements in the list:\", list_sum(my_list))\n"
   ]
  },
  {
   "cell_type": "markdown",
   "id": "58a54de4-eb7c-438f-99dd-19087794fe4d",
   "metadata": {},
   "source": [
    "#### 5. How can you prevent a recursive function from running indefinitely, causing a stack overflow error?"
   ]
  },
  {
   "cell_type": "code",
   "execution_count": 30,
   "id": "eb43fe8f-99be-40e9-a398-1a7d9da9292e",
   "metadata": {},
   "outputs": [],
   "source": [
    "'''\n",
    "To prevent a recursive function from running indefinitely and causing a stack overflow error, \n",
    "we can implement one or more of the following strategies:\n",
    "\n",
    "Base Case: Ensure that your recursive function has a base case or stopping condition. \n",
    "This condition should be designed such that the function terminates when it is met. \n",
    "Without a base case, the function will continue to call itself indefinitely.\n",
    "\n",
    "Progress Toward Base Case: Make sure that each recursive call brings you closer to the base case. \n",
    "In other words, ensure that the parameters passed to the recursive call are closer to the base case than the current parameters.\n",
    "\n",
    "Limiting Recursion Depth: Set a maximum recursion depth or limit the number of recursive calls allowed. \n",
    "This can be achieved by using a counter or a depth parameter and decrementing it with each recursive call. \n",
    "When the counter reaches a predefined threshold, terminate the recursion.\n",
    "\n",
    "Input Validation: Validate the input parameters before making recursive calls. \n",
    "Ensure that the input parameters are valid and within the expected range. \n",
    "If the input parameters are not valid, return an appropriate value or raise an exception instead of making further recursive calls.\n",
    "\n",
    "Tail Recursion Optimization: If possible, optimize the recursive function to use tail recursion. \n",
    "In tail recursion, the recursive call is the last operation performed by the function before returning. \n",
    "Some programming languages and compilers optimize tail-recursive functions to avoid stack overflow errors.\n",
    "''';"
   ]
  },
  {
   "cell_type": "markdown",
   "id": "24b61821-725a-4be8-b334-da0586a46db2",
   "metadata": {},
   "source": [
    "#### 6. Create a recursive Python function to find the greatest common divisor (GCD) of two numbers using the Euclidean algorithm."
   ]
  },
  {
   "cell_type": "code",
   "execution_count": 31,
   "id": "b2e08fa9-b6f0-459b-8aa7-9f83eef293cd",
   "metadata": {},
   "outputs": [
    {
     "name": "stdout",
     "output_type": "stream",
     "text": [
      "GCD of 48 and 18 is: 6\n"
     ]
    }
   ],
   "source": [
    "def gcd(a, b):\n",
    "    # Base case: If b is 0, return a\n",
    "    if b == 0:\n",
    "        return a\n",
    "    # Recursive case: Calculate GCD recursively with (b, a % b)\n",
    "    else:\n",
    "        return gcd(b, a % b)\n",
    "\n",
    "# Test the function\n",
    "num1 = 48\n",
    "num2 = 18\n",
    "print(\"GCD of\", num1, \"and\", num2, \"is:\", gcd(num1, num2))\n"
   ]
  },
  {
   "cell_type": "markdown",
   "id": "90a153b7-682e-43e1-966f-7782c4a221e3",
   "metadata": {},
   "source": [
    "#### 7. Write a recursive Python function to reverse a string."
   ]
  },
  {
   "cell_type": "code",
   "execution_count": 32,
   "id": "5dafdbf3-1f7a-4fa3-ae3f-ec68edbd970c",
   "metadata": {},
   "outputs": [
    {
     "name": "stdout",
     "output_type": "stream",
     "text": [
      "Original string: hello\n",
      "Reversed string: olleh\n"
     ]
    }
   ],
   "source": [
    "def reverse_string(s):\n",
    "    # Base case: If the string is empty or has only one character, return the string itself\n",
    "    if len(s) <= 1:\n",
    "        return s\n",
    "    # Recursive case: Reverse the substring starting from the second character and append the first character\n",
    "    else:\n",
    "        return reverse_string(s[1:]) + s[0]\n",
    "\n",
    "# Test the function\n",
    "input_string = \"hello\"\n",
    "print(\"Original string:\", input_string)\n",
    "print(\"Reversed string:\", reverse_string(input_string))\n"
   ]
  },
  {
   "cell_type": "markdown",
   "id": "d3f22845-bfbc-442e-97a9-29c0252a1bad",
   "metadata": {},
   "source": [
    "#### 8. Create a recursive Python function to calculate the power of a number (x^n)."
   ]
  },
  {
   "cell_type": "code",
   "execution_count": 33,
   "id": "88f173d8-2927-401f-9136-fbab30a4d3c7",
   "metadata": {},
   "outputs": [
    {
     "name": "stdout",
     "output_type": "stream",
     "text": [
      "Result of 2 raised to the power 5 is: 32\n"
     ]
    }
   ],
   "source": [
    "def power(x, n):\n",
    "    # Base case: If n is 0, return 1\n",
    "    if n == 0:\n",
    "        return 1\n",
    "    # Recursive case: Calculate power recursively with (x, n - 1) and multiply by x\n",
    "    else:\n",
    "        return x * power(x, n - 1)\n",
    "\n",
    "# Test the function\n",
    "base = 2\n",
    "exponent = 5\n",
    "print(\"Result of\", base, \"raised to the power\", exponent, \"is:\", power(base, exponent))\n"
   ]
  },
  {
   "cell_type": "markdown",
   "id": "1c2eb942-3127-40a7-972e-874b13739e39",
   "metadata": {},
   "source": [
    "#### 9. Write a recursive Python function to find all permutations of a given string."
   ]
  },
  {
   "cell_type": "code",
   "execution_count": 34,
   "id": "be62c69c-b808-4c29-bacf-3b947fafbcd6",
   "metadata": {},
   "outputs": [
    {
     "name": "stdout",
     "output_type": "stream",
     "text": [
      "Permutations of abc are: ['abc', 'acb', 'bac', 'bca', 'cab', 'cba']\n"
     ]
    }
   ],
   "source": [
    "def permutations(s):\n",
    "    if len(s) == 1:\n",
    "        return [s]\n",
    "    else:\n",
    "        perms = []\n",
    "        for i, char in enumerate(s):\n",
    "            remaining_chars = s[:i] + s[i+1:]\n",
    "            subperms = permutations(remaining_chars)\n",
    "            for subperm in subperms:\n",
    "                perms.append(char + subperm)\n",
    "        return perms\n",
    "\n",
    "# Test the function\n",
    "input_string = \"abc\"\n",
    "print(\"Permutations of\", input_string, \"are:\", permutations(input_string))\n"
   ]
  },
  {
   "cell_type": "markdown",
   "id": "5a6415bc-2cb6-49f5-92c4-a963d9f366cf",
   "metadata": {},
   "source": [
    "#### 10. Write a recursive Python function to check if a string is a palindrome."
   ]
  },
  {
   "cell_type": "code",
   "execution_count": 35,
   "id": "b0851a9d-5cf9-4ceb-8530-08dc631e2221",
   "metadata": {},
   "outputs": [
    {
     "name": "stdout",
     "output_type": "stream",
     "text": [
      "Is radar a palindrome? True\n"
     ]
    }
   ],
   "source": [
    "def is_palindrome(s):\n",
    "    # Base case: If the string has 0 or 1 characters, it is a palindrome\n",
    "    if len(s) <= 1:\n",
    "        return True\n",
    "    # Recursive case: Check if the first and last characters are equal, then check the substring\n",
    "    elif s[0] == s[-1]:\n",
    "        return is_palindrome(s[1:-1])\n",
    "    else:\n",
    "        return False\n",
    "\n",
    "# Test the function\n",
    "input_string = \"radar\"\n",
    "print(\"Is\", input_string, \"a palindrome?\", is_palindrome(input_string))\n"
   ]
  },
  {
   "cell_type": "markdown",
   "id": "9bd180ac-97f4-477c-8414-3431785e3afa",
   "metadata": {},
   "source": [
    "#### 11. Create a recursive Python function to generate all possible combinations of a list of elements."
   ]
  },
  {
   "cell_type": "code",
   "execution_count": 36,
   "id": "2505b53e-ccf3-4e31-8134-7c9a9a475469",
   "metadata": {},
   "outputs": [
    {
     "name": "stdout",
     "output_type": "stream",
     "text": [
      "All possible combinations of [1, 2, 3] are: [[1, 2, 3], [1, 3, 2], [2, 1, 3], [2, 3, 1], [3, 1, 2], [3, 2, 1]]\n"
     ]
    }
   ],
   "source": [
    "def combinations(elements):\n",
    "    if len(elements) == 1:\n",
    "        return [elements]\n",
    "    else:\n",
    "        all_combinations = []\n",
    "        for i, element in enumerate(elements):\n",
    "            remaining_elements = elements[:i] + elements[i+1:]\n",
    "            sub_combinations = combinations(remaining_elements)\n",
    "            for sub_combination in sub_combinations:\n",
    "                all_combinations.append([element] + sub_combination)\n",
    "        return all_combinations\n",
    "\n",
    "# Test the function\n",
    "input_list = [1, 2, 3]\n",
    "print(\"All possible combinations of\", input_list, \"are:\", combinations(input_list))\n"
   ]
  },
  {
   "cell_type": "markdown",
   "id": "077ef784-372f-4804-9258-973a0a868224",
   "metadata": {},
   "source": [
    "# Basics of Functions:"
   ]
  },
  {
   "cell_type": "markdown",
   "id": "081013fa-423a-4e6b-8f21-dd9f5f003a0e",
   "metadata": {},
   "source": [
    "#### 1. What is a function in Python, and why is it used?"
   ]
  },
  {
   "cell_type": "code",
   "execution_count": 38,
   "id": "8591814e-fe07-4a68-b67a-909607694580",
   "metadata": {},
   "outputs": [
    {
     "name": "stdout",
     "output_type": "stream",
     "text": [
      "Hello, John!\n"
     ]
    }
   ],
   "source": [
    "'''\n",
    "In Python, a function is a block of code that can be executed multiple times from different parts of your program. \n",
    "It is a way to group a set of statements together to perform a specific task. \n",
    "\n",
    "Functions are used to:\n",
    "\n",
    "Organize Code: Functions help to organize your code by grouping related statements together, making it easier to read and maintain.\n",
    "\n",
    "Reuse Code: Functions allow you to reuse code by calling the same function multiple times from different parts of your program.\n",
    "\n",
    "Reduce Code Duplication: Functions help to reduce code duplication by allowing you to write a block of code once and reuse it multiple times.\n",
    "\n",
    "Improve Readability: Functions improve the readability of your code by breaking it down into smaller, more manageable pieces.\n",
    "\n",
    "Improve Modularity: Functions help to improve the modularity of your code by allowing you to write independent blocks of code that can be used together to create a larger program.\n",
    "\n",
    "Improve Debugging: Functions improve the debugging process by allowing you to test and debug a specific block of code independently of the rest of your program.\n",
    "''';\n",
    "\n",
    "def greet(name):\n",
    "    print(\"Hello, \" + name + \"!\")\n",
    "\n",
    "greet(\"John\")"
   ]
  },
  {
   "cell_type": "markdown",
   "id": "9faded37-0f67-40b1-acd5-69208870c05d",
   "metadata": {},
   "source": [
    "#### 2. How do you define a function in Python? Provide an example."
   ]
  },
  {
   "cell_type": "code",
   "execution_count": 39,
   "id": "f2fbd3b7-60d4-4522-80d9-cd1e13e6155e",
   "metadata": {},
   "outputs": [
    {
     "name": "stdout",
     "output_type": "stream",
     "text": [
      "8\n"
     ]
    }
   ],
   "source": [
    "# In Python, we can define a function using the def keyword followed by the name of the function and a colon. \n",
    "# The code inside the function is indented under the function definition.\n",
    "\n",
    "# Here is an example:\n",
    "    \n",
    "def add_numbers(a, b):\n",
    "    return a + b\n",
    "\n",
    "result = add_numbers(5, 3)\n",
    "print(result)  "
   ]
  },
  {
   "cell_type": "markdown",
   "id": "3f72598e-9c57-4c37-b9ef-250deb04ed0c",
   "metadata": {},
   "source": [
    "#### 3. Explain the difference between a function definition and a function call."
   ]
  },
  {
   "cell_type": "code",
   "execution_count": 40,
   "id": "742190d7-06cc-4244-ac1d-ada5eba4af38",
   "metadata": {},
   "outputs": [
    {
     "name": "stdout",
     "output_type": "stream",
     "text": [
      "Hello, John!\n"
     ]
    }
   ],
   "source": [
    "# In Python, a function definition is the process of creating a function, which is a block of code that can be executed multiple times from different parts of your program. \n",
    "# A function definition is typically denoted by the def keyword followed by the name of the function and a colon.\n",
    "\n",
    "# Here is an example:\n",
    "\n",
    "def greet(name):\n",
    "    print(\"Hello, \" + name + \"!\")\n",
    "    \n",
    "# On the other hand, a function call is the process of executing a function that has already been defined. \n",
    "# A function call is typically denoted by the name of the function followed by parentheses containing any arguments that need to be passed to the function.\n",
    "\n",
    "# Here is an example:\n",
    "\n",
    "greet(\"John\")"
   ]
  },
  {
   "cell_type": "markdown",
   "id": "4d8df77c-5f29-4f2c-b052-22e6c58642ab",
   "metadata": {},
   "source": [
    "#### 4. Write a Python program that defines a function to calculate the sum of two numbers and then calls the function."
   ]
  },
  {
   "cell_type": "code",
   "execution_count": 41,
   "id": "448d48e4-424c-4dce-94a7-7195f3a1e7e0",
   "metadata": {},
   "outputs": [
    {
     "name": "stdout",
     "output_type": "stream",
     "text": [
      "The sum of 10 and 20 is: 30\n"
     ]
    }
   ],
   "source": [
    "def calculate_sum(num1, num2):\n",
    "    return num1 + num2\n",
    "\n",
    "# Test the function\n",
    "number1 = 10\n",
    "number2 = 20\n",
    "result = calculate_sum(number1, number2)\n",
    "print(\"The sum of\", number1, \"and\", number2, \"is:\", result)\n"
   ]
  },
  {
   "cell_type": "markdown",
   "id": "3b333b9d-2c80-47b9-a134-b914a73761f2",
   "metadata": {},
   "source": [
    "#### 5. What is a function signature, and what information does it typically include?"
   ]
  },
  {
   "cell_type": "code",
   "execution_count": 43,
   "id": "27ab66f4-c83c-4d81-aae8-de8834f928b3",
   "metadata": {},
   "outputs": [],
   "source": [
    "# A function signature, also known as a function prototype or function declaration, defines the interface of a function and \n",
    "# includes important information about the function's name, parameters, and return type. It serves as a contract between the function and its callers, \n",
    "# specifying how the function should be called and what it returns.\n",
    "\n",
    "# A typical function signature includes:\n",
    "# Function Name, Parameters and Return Type.\n",
    "\n",
    "# Here's an example of a function signature:\n",
    "\n",
    "def calculate_sum(num1: int, num2: int) -> int:\n",
    "    \"\"\"\n",
    "    Function to calculate the sum of two numbers.\n",
    "    \n",
    "    Parameters:\n",
    "        num1 (int): First number.\n",
    "        num2 (int): Second number.\n",
    "    \n",
    "    Returns:\n",
    "        int: Sum of num1 and num2.\n",
    "    \"\"\"\n",
    "    return num1 + num2\n"
   ]
  },
  {
   "cell_type": "markdown",
   "id": "319aa101-bb04-4376-a20e-6e7a69b6c3a1",
   "metadata": {},
   "source": [
    "#### 6. Create a Python function that takes two arguments and returns their product."
   ]
  },
  {
   "cell_type": "code",
   "execution_count": 45,
   "id": "d2d17ceb-62de-4aab-8b55-84998364a10a",
   "metadata": {},
   "outputs": [
    {
     "name": "stdout",
     "output_type": "stream",
     "text": [
      "The product of 5 and 7 is: 35\n"
     ]
    }
   ],
   "source": [
    "def calculate_product(num1, num2):\n",
    "    return num1 * num2\n",
    "\n",
    "# Test the function\n",
    "number1 = 5\n",
    "number2 = 7\n",
    "result = calculate_product(number1, number2)\n",
    "print(\"The product of\", number1, \"and\", number2, \"is:\", result)\n"
   ]
  },
  {
   "cell_type": "markdown",
   "id": "5085470c-f6dc-406a-aaa0-19760eeb216d",
   "metadata": {},
   "source": [
    "# Function Parameters and Arguments:"
   ]
  },
  {
   "cell_type": "markdown",
   "id": "62d339d4-25f1-4afa-9614-187f9ad56114",
   "metadata": {},
   "source": [
    "#### 1. Explain the concepts of formal parameters and actual arguments in Python functions."
   ]
  },
  {
   "cell_type": "code",
   "execution_count": 46,
   "id": "609fd988-11e7-4020-a522-48b035f01be3",
   "metadata": {},
   "outputs": [
    {
     "name": "stdout",
     "output_type": "stream",
     "text": [
      "Hello, John! You are 30 years old.\n"
     ]
    }
   ],
   "source": [
    "# Formal parameters are the parameters defined in the function definition. \n",
    "# They are the names given to the variables that will hold the values passed to the function. \n",
    "# In Python, formal parameters are defined in the function definition using the def keyword.\n",
    "\n",
    "# Here is an example:\n",
    "\n",
    "def greet(name, age):\n",
    "    print(f\"Hello, {name}! You are {age} years old.\")\n",
    "    \n",
    "# Actual arguments are the values passed to the function when it is called. \n",
    "# They are the values that are assigned to the formal parameters.\n",
    "\n",
    "# Here is an example:\n",
    "\n",
    "greet(\"John\", 30)"
   ]
  },
  {
   "cell_type": "markdown",
   "id": "c0b8bf7b-fe6c-4fae-b70d-f07f75980281",
   "metadata": {},
   "source": [
    "#### 2. Write a Python program that defines a function with default argument values."
   ]
  },
  {
   "cell_type": "code",
   "execution_count": 47,
   "id": "310a09b2-95d5-48b1-9029-a639149b5c7d",
   "metadata": {},
   "outputs": [
    {
     "name": "stdout",
     "output_type": "stream",
     "text": [
      "Hello, World!\n"
     ]
    }
   ],
   "source": [
    "def greet(name=\"World\"):\n",
    "    return \"Hello, \" + name + \"!\"\n",
    "\n",
    "# Test the function with default argument value\n",
    "default_greeting = greet()\n",
    "print(default_greeting) "
   ]
  },
  {
   "cell_type": "markdown",
   "id": "dff415e8-0cff-40c5-8d16-6a2c30031a80",
   "metadata": {},
   "source": [
    "#### 3. How do you use keyword arguments in Python function calls? Provide an example."
   ]
  },
  {
   "cell_type": "code",
   "execution_count": 48,
   "id": "f0c82232-0ed8-46e6-99b1-c435bc0afd01",
   "metadata": {},
   "outputs": [
    {
     "name": "stdout",
     "output_type": "stream",
     "text": [
      "Hello, Jade Peter Wesker\n"
     ]
    }
   ],
   "source": [
    "# We can provide arguments with key = value, this way the interpreter recognizes the arguments by the parameter name. \n",
    "# Hence, the the order in which the arguments are passed does not matter.\n",
    "\n",
    "def name(fname, mname, lname):\n",
    "    print(\"Hello,\", fname, mname, lname)\n",
    "\n",
    "name(mname = \"Peter\", lname = \"Wesker\", fname = \"Jade\")"
   ]
  },
  {
   "cell_type": "markdown",
   "id": "a1d3b489-2fbd-4ff8-b01e-a47a41291c37",
   "metadata": {},
   "source": [
    "#### 4. Create a Python function that accepts a variable number of arguments and calculates their sum"
   ]
  },
  {
   "cell_type": "code",
   "execution_count": 52,
   "id": "f2437891-5d34-49cf-a3ce-9a70811fc519",
   "metadata": {},
   "outputs": [
    {
     "name": "stdout",
     "output_type": "stream",
     "text": [
      "15\n"
     ]
    }
   ],
   "source": [
    "def sum_numbers(*args):\n",
    "    total = 0\n",
    "    for num in args:\n",
    "        total += num\n",
    "    return total\n",
    "\n",
    "result = sum_numbers(1, 2, 3, 4, 5)\n",
    "print(result) "
   ]
  },
  {
   "cell_type": "markdown",
   "id": "03165601-c469-4d7d-b17c-d5bddb4ab067",
   "metadata": {},
   "source": [
    "#### 5. What is the purpose of the `*args` and `**kwargs` syntax in function parameter lists?"
   ]
  },
  {
   "cell_type": "code",
   "execution_count": 53,
   "id": "5be857f1-e099-43f3-a5a5-4f7c4a994067",
   "metadata": {},
   "outputs": [
    {
     "name": "stdout",
     "output_type": "stream",
     "text": [
      "Hello, James Buchanan Barnes\n",
      "Hello, James Buchanan Barnes\n"
     ]
    }
   ],
   "source": [
    "# *args - While creating a function, pass a * before the parameter name while defining the function. \n",
    "# The function accesses the arguments by processing them in the form of tuple.\n",
    "\n",
    "def name(*name):\n",
    "    print(\"Hello,\", name[0], name[1], name[2])\n",
    "\n",
    "name(\"James\", \"Buchanan\", \"Barnes\")\n",
    "\n",
    "# **kwargs - While creating a function, pass a * before the parameter name while defining the function. \n",
    "# The function accesses the arguments by processing them in the form of dictionary.\n",
    "\n",
    "def name(**name):\n",
    "    print(\"Hello,\", name[\"fname\"], name[\"mname\"], name[\"lname\"])\n",
    "\n",
    "name(mname = \"Buchanan\", lname = \"Barnes\", fname = \"James\")"
   ]
  },
  {
   "cell_type": "markdown",
   "id": "622aed30-3424-40f1-89f5-b20e7e7aa6aa",
   "metadata": {},
   "source": [
    "# Return Values and Scoping:"
   ]
  },
  {
   "cell_type": "markdown",
   "id": "307847b5-a699-4a42-be2e-5df3693fcb86",
   "metadata": {},
   "source": [
    "#### 1. Describe the role of the `return` statement in Python functions and provide examples."
   ]
  },
  {
   "cell_type": "code",
   "execution_count": 54,
   "id": "163620c0-e7a7-4532-afd4-5b299e9d98b7",
   "metadata": {},
   "outputs": [
    {
     "name": "stdout",
     "output_type": "stream",
     "text": [
      "5\n",
      "1\n",
      "2\n",
      "3\n",
      "Hello!\n",
      "Hello!\n",
      "None\n"
     ]
    }
   ],
   "source": [
    "# In Python, the return statement is used to specify the value that a function returns to the caller. \n",
    "# When a function reaches the return statement, it stops executing and returns the specified value to the caller.\n",
    "\n",
    "# Here is an example of a simple function that returns a value:\n",
    "\n",
    "def add_numbers(a, b):\n",
    "    return a + b\n",
    "\n",
    "result = add_numbers(2, 3)\n",
    "print(result) \n",
    "\n",
    "# Python functions can also return multiple values using the return statement. Here is an example:\n",
    "\n",
    "def get_numbers():\n",
    "    return 1, 2, 3\n",
    "\n",
    "a, b, c = get_numbers()\n",
    "print(a)  \n",
    "print(b)  \n",
    "print(c)  \n",
    "\n",
    "# If a function does not explicitly return a value using the return statement, it will return None by default. Here is an example:\n",
    "\n",
    "def hello():\n",
    "    print(\"Hello!\")\n",
    "\n",
    "hello()\n",
    "print(hello())"
   ]
  },
  {
   "cell_type": "markdown",
   "id": "23320a7c-782a-4f4c-b2db-d8dfdf8bb9b4",
   "metadata": {},
   "source": [
    "#### 2. Explain the concept of variable scope in Python, including local and global variables."
   ]
  },
  {
   "cell_type": "code",
   "execution_count": 56,
   "id": "71ee76e2-f184-4b2f-827a-3161e6ee65bb",
   "metadata": {},
   "outputs": [
    {
     "name": "stdout",
     "output_type": "stream",
     "text": [
      "Inside function: 10\n",
      "Name Error\n",
      "Inside function: 20\n",
      "Outside function: 20\n"
     ]
    }
   ],
   "source": [
    "# Variable scope refers to the area of a program where a variable is accessible or visible. \n",
    "# In Python, variables can have different scopes, which determine where they can be accessed and modified. \n",
    "# The two main types of variable scopes in Python are:\n",
    "    \n",
    "# 1. Local Scope: Variables defined within a function have a local scope. \n",
    "# They are accessible only within the function in which they are defined. \n",
    "# Local variables are created when the function is called and destroyed when the function exits. \n",
    "# Attempting to access a local variable from outside its function will result in an error.\n",
    "\n",
    "try:\n",
    "    def my_function():\n",
    "        x = 10  # Local variable\n",
    "        print(\"Inside function:\", x)\n",
    "\n",
    "    my_function()\n",
    "    print(\"Outside function:\", x)  # Error: NameError: name 'x' is not defined\n",
    "except NameError:\n",
    "    print(\"Name Error\")\n",
    "    \n",
    "# 2. Global Scope: Variables defined outside of any function or in the global scope have a global scope. \n",
    "# They can be accessed and modified from anywhere in the program, including within functions. \n",
    "# Global variables persist throughout the entire program execution.\n",
    "\n",
    "y = 20  # Global variable\n",
    "\n",
    "def my_function():\n",
    "    print(\"Inside function:\", y)  # Accessing global variable\n",
    "\n",
    "my_function()\n",
    "print(\"Outside function:\", y)\n"
   ]
  },
  {
   "cell_type": "markdown",
   "id": "56f6f605-12fa-4522-9b09-a7e374655689",
   "metadata": {},
   "source": [
    "#### 3. Write a Python program that demonstrates the use of global variables within functions"
   ]
  },
  {
   "cell_type": "code",
   "execution_count": 58,
   "id": "2fcfbd9b-221c-4677-ba79-fe20ba2566bc",
   "metadata": {},
   "outputs": [
    {
     "name": "stdout",
     "output_type": "stream",
     "text": [
      "Inside modify_global(): x = 20\n",
      "Inside print_global(): x = 20\n",
      "Outside functions: x = 20\n"
     ]
    }
   ],
   "source": [
    "# Define a global variable\n",
    "x = 10\n",
    "\n",
    "def modify_global():\n",
    "    global x\n",
    "    x = 20\n",
    "    print(\"Inside modify_global(): x =\", x)\n",
    "\n",
    "def print_global():\n",
    "    print(\"Inside print_global(): x =\", x)\n",
    "\n",
    "modify_global()\n",
    "print_global()\n",
    "print(\"Outside functions: x =\", x)"
   ]
  },
  {
   "cell_type": "markdown",
   "id": "0c92da4c-15b9-4dfa-aa41-34590561da30",
   "metadata": {},
   "source": [
    "#### 4. Create a Python function that calculates the factorial of a number and returns it"
   ]
  },
  {
   "cell_type": "code",
   "execution_count": 59,
   "id": "6f38dd5a-9d39-431c-a363-48bb238f8452",
   "metadata": {},
   "outputs": [
    {
     "name": "stdout",
     "output_type": "stream",
     "text": [
      "Factorial of 5 is 120\n"
     ]
    }
   ],
   "source": [
    "def factorial(n):\n",
    "    if n == 0:\n",
    "        return 1\n",
    "    else:\n",
    "        return n * factorial(n - 1)\n",
    "\n",
    "number = 5\n",
    "result = factorial(number)\n",
    "print(\"Factorial of\", number, \"is\", result)\n"
   ]
  },
  {
   "cell_type": "markdown",
   "id": "ee0881e0-f40a-4f91-9ca8-9950041dd481",
   "metadata": {},
   "source": [
    "#### 5. How can you access variables defined outside a function from within the function?"
   ]
  },
  {
   "cell_type": "code",
   "execution_count": 60,
   "id": "4fd6723a-0f70-408f-99e6-a1112ad80566",
   "metadata": {},
   "outputs": [
    {
     "name": "stdout",
     "output_type": "stream",
     "text": [
      "20\n"
     ]
    }
   ],
   "source": [
    "# We can access variables defined outside a function from within the function using the global keyword:\n",
    "\n",
    "x = 10\n",
    "\n",
    "def modify_x():\n",
    "    global x\n",
    "    x = 20\n",
    "\n",
    "modify_x()\n",
    "print(x) "
   ]
  },
  {
   "cell_type": "markdown",
   "id": "6c0e5d39-efa0-4c40-8063-f7d43f65055e",
   "metadata": {},
   "source": [
    "# Lambda Functions and Higher-Order Functions:"
   ]
  },
  {
   "cell_type": "markdown",
   "id": "6c32408b-99b8-46ca-b8ef-dabbb89b36ec",
   "metadata": {},
   "source": [
    "#### 1. What are lambda functions in Python, and when are they typically used?"
   ]
  },
  {
   "cell_type": "code",
   "execution_count": 61,
   "id": "dbd59dda-7110-47ef-a3e5-f6082079ba22",
   "metadata": {},
   "outputs": [
    {
     "data": {
      "text/plain": [
       "<function __main__.<lambda>(x)>"
      ]
     },
     "execution_count": 61,
     "metadata": {},
     "output_type": "execute_result"
    }
   ],
   "source": [
    "# In Python, a lambda function is a small anonymous function without a name. \n",
    "# It is defined using the lambda keyword and has the following syntax:\n",
    "# lambda arguments: expression\n",
    "\n",
    "# Lambda functions are often used in situations where a small function is required for a short period of time. \n",
    "# They are commonly used as arguments to higher-order functions, such as map, filter, and reduce.\n",
    "\n",
    "# Here is an example of how to use a lambda function:\n",
    "\n",
    "# Function to double the input\n",
    "def double(x):\n",
    "  return x * 2\n",
    "\n",
    "# Lambda function to double the input\n",
    "lambda x: x * 2"
   ]
  },
  {
   "cell_type": "markdown",
   "id": "194de21a-078d-40d8-bd81-287b5744faaa",
   "metadata": {},
   "source": [
    "#### 2. Write a Python program that uses lambda functions to sort a list of tuples based on the second element."
   ]
  },
  {
   "cell_type": "code",
   "execution_count": 62,
   "id": "7f39bc6a-17c3-44ae-91d4-ee75919b373a",
   "metadata": {},
   "outputs": [
    {
     "name": "stdout",
     "output_type": "stream",
     "text": [
      "Sorted list based on the second element of each tuple:\n",
      "[(4, 1), (3, 2), (1, 5), (2, 8)]\n"
     ]
    }
   ],
   "source": [
    "# List of tuples\n",
    "list_of_tuples = [(1, 5), (3, 2), (2, 8), (4, 1)]\n",
    "\n",
    "# Sorting the list based on the second element of each tuple\n",
    "sorted_list = sorted(list_of_tuples, key=lambda x: x[1])\n",
    "\n",
    "# Printing the sorted list\n",
    "print(\"Sorted list based on the second element of each tuple:\")\n",
    "print(sorted_list)\n"
   ]
  },
  {
   "cell_type": "markdown",
   "id": "cfc21067-270a-4601-a4f7-5903a77f10b9",
   "metadata": {},
   "source": [
    "#### 3. Explain the concept of higher-order functions in Python, and provide an example."
   ]
  },
  {
   "cell_type": "code",
   "execution_count": 63,
   "id": "347c7633-0cff-47b8-b3e1-513b8d000ad1",
   "metadata": {},
   "outputs": [
    {
     "name": "stdout",
     "output_type": "stream",
     "text": [
      "Result of addition: 15\n",
      "Result of subtraction: 5\n",
      "Result of multiplication: 50\n"
     ]
    }
   ],
   "source": [
    "# Higher-order functions are functions that can take other functions as arguments and/or return functions as results. \n",
    "# In Python, functions are first-class citizens, which means they can be treated as objects, assigned to variables, passed as arguments, and returned from other functions. \n",
    "# This feature enables the use of higher-order functions.\n",
    "\n",
    "# Here's an example:\n",
    "\n",
    "def apply_operation(operation, x, y):\n",
    "    return operation(x, y)\n",
    "\n",
    "# Define some operation functions\n",
    "def add(x, y):\n",
    "    return x + y\n",
    "\n",
    "def subtract(x, y):\n",
    "    return x - y\n",
    "\n",
    "def multiply(x, y):\n",
    "    return x * y\n",
    "\n",
    "# Use higher-order function to apply different operations\n",
    "result1 = apply_operation(add, 10, 5)\n",
    "print(\"Result of addition:\", result1)  \n",
    "\n",
    "result2 = apply_operation(subtract, 10, 5)\n",
    "print(\"Result of subtraction:\", result2)  \n",
    "\n",
    "result3 = apply_operation(multiply, 10, 5)\n",
    "print(\"Result of multiplication:\", result3)  \n"
   ]
  },
  {
   "cell_type": "markdown",
   "id": "8bb65b66-8535-4447-a031-9d8d2fa75297",
   "metadata": {},
   "source": [
    "#### 4. Create a Python function that takes a list of numbers and a function as arguments, applying the function to each element in the list."
   ]
  },
  {
   "cell_type": "code",
   "execution_count": 64,
   "id": "2ec19f86-80f5-425b-9fc1-7bd54f32a079",
   "metadata": {},
   "outputs": [
    {
     "name": "stdout",
     "output_type": "stream",
     "text": [
      "Original list: [1, 2, 3, 4, 5]\n",
      "Result after applying square function to each element: [1, 4, 9, 16, 25]\n"
     ]
    }
   ],
   "source": [
    "def apply_function_to_list(func, numbers):\n",
    "     return [func(num) for num in numbers]\n",
    "\n",
    "# Example function to square a number\n",
    "def square(x):\n",
    "    return x ** 2\n",
    "\n",
    "# Example list of numbers\n",
    "numbers = [1, 2, 3, 4, 5]\n",
    "\n",
    "# Apply the square function to each element in the list\n",
    "result = apply_function_to_list(square, numbers)\n",
    "print(\"Original list:\", numbers)\n",
    "print(\"Result after applying square function to each element:\", result)\n"
   ]
  },
  {
   "cell_type": "markdown",
   "id": "bfb4255e-a6f0-4bc4-92ab-44c9a893e633",
   "metadata": {},
   "source": [
    "# Built-in Functions:"
   ]
  },
  {
   "cell_type": "markdown",
   "id": "3aed5058-cfee-424d-a360-17a77587ed81",
   "metadata": {},
   "source": [
    "#### 1. Describe the role of built-in functions like `len()`, `max()`, and `min()` in Python."
   ]
  },
  {
   "cell_type": "code",
   "execution_count": 66,
   "id": "a5fac4a7-20ad-4df7-aa76-7aef57c2fb1d",
   "metadata": {},
   "outputs": [],
   "source": [
    "# Built-in functions like len(), max(), and min() are pre-defined functions that can be used to perform various operations on data.\n",
    "\n",
    "'''\n",
    "len():\n",
    "\n",
    "The len() function returns the length of a sequence (such as a string, list, or tuple).\n",
    "It takes a single argument, which is the sequence to be measured.\n",
    "Example: len(\"hello\") returns 5, the length of the string \"hello\".\n",
    "\n",
    "max():\n",
    "\n",
    "The max() function returns the largest item in an iterable (such as a list, tuple, or string).\n",
    "It takes a single argument, which is the iterable to be searched.\n",
    "Example: max([1, 2, 3, 4, 5]) returns 5, the largest item in the list.\n",
    "\n",
    "min():\n",
    "\n",
    "The min() function returns the smallest item in an iterable (such as a list, tuple, or string).\n",
    "It takes a single argument, which is the iterable to be searched.\n",
    "Example: min([1, 2, 3, 4, 5]) returns 1, the smallest item in the list.\n",
    "''';"
   ]
  },
  {
   "cell_type": "markdown",
   "id": "f4022b6c-3c4e-435a-91e6-067e9b8371d9",
   "metadata": {},
   "source": [
    "#### 2. Write a Python program that uses the `map()` function to apply a function to each element of a list."
   ]
  },
  {
   "cell_type": "code",
   "execution_count": 67,
   "id": "5b9585dc-7939-4783-b74f-8f34fd840b8f",
   "metadata": {},
   "outputs": [
    {
     "name": "stdout",
     "output_type": "stream",
     "text": [
      "Original list: [1, 2, 3, 4, 5]\n",
      "Result after applying square function to each element: [1, 4, 9, 16, 25]\n"
     ]
    }
   ],
   "source": [
    "# Example function to square a number\n",
    "def square(x):\n",
    "    return x ** 2\n",
    "\n",
    "# Example list of numbers\n",
    "numbers = [1, 2, 3, 4, 5]\n",
    "\n",
    "# Use map() to apply the square function to each element in the list\n",
    "result = list(map(square, numbers))\n",
    "\n",
    "# Print the original list and the result after applying the square function\n",
    "print(\"Original list:\", numbers)\n",
    "print(\"Result after applying square function to each element:\", result)\n"
   ]
  },
  {
   "cell_type": "markdown",
   "id": "339b132f-c7bf-4b2e-8115-12739cb27444",
   "metadata": {},
   "source": [
    "#### 3. How does the `filter()` function work in Python, and when would you use it?"
   ]
  },
  {
   "cell_type": "code",
   "execution_count": 68,
   "id": "0c710928-893d-46dd-9e31-786e3eeed9f4",
   "metadata": {},
   "outputs": [],
   "source": [
    "'''\n",
    "Here's how filter() works:\n",
    "\n",
    "The filter() function iterates over each element in the iterable.\n",
    "For each element, it calls the function passed as the first argument.\n",
    "If the function returns True for the element, it is included in the result; otherwise, it is excluded.\n",
    "The filter() function returns an iterator containing the filtered elements.\n",
    "\n",
    "We would use the filter() function when you want to selectively extract elements from a collection based on certain criteria. \n",
    "It provides a concise and expressive way to perform filtering operations without having to write explicit loops.\n",
    "''';"
   ]
  },
  {
   "cell_type": "markdown",
   "id": "da9ea060-3974-4071-b48a-fc77f7b47848",
   "metadata": {},
   "source": [
    "#### 4. Create a Python program that uses the `reduce()` function to find the product of all elements in a list."
   ]
  },
  {
   "cell_type": "code",
   "execution_count": 69,
   "id": "2e382691-72a9-4c1b-92bc-84e4ff784b07",
   "metadata": {},
   "outputs": [
    {
     "name": "stdout",
     "output_type": "stream",
     "text": [
      "Original list: [1, 2, 3, 4, 5]\n",
      "Product of all elements: 120\n"
     ]
    }
   ],
   "source": [
    "from functools import reduce\n",
    "\n",
    "# List of numbers\n",
    "numbers = [1, 2, 3, 4, 5]\n",
    "\n",
    "# Function to calculate the product of two numbers\n",
    "def multiply(x, y):\n",
    "    return x * y\n",
    "\n",
    "# Use reduce() to find the product of all elements in the list\n",
    "product = reduce(multiply, numbers)\n",
    "\n",
    "# Print the original list and the product\n",
    "print(\"Original list:\", numbers)\n",
    "print(\"Product of all elements:\", product)\n"
   ]
  },
  {
   "cell_type": "markdown",
   "id": "3f72026d-7522-4cdc-88a2-508b2ccfce68",
   "metadata": {},
   "source": [
    "# Function Documentation and Best Practices:"
   ]
  },
  {
   "cell_type": "markdown",
   "id": "62ab4ccd-dd17-4bfa-99db-adeab3dc880c",
   "metadata": {},
   "source": [
    "#### 1. Explain the purpose of docstrings in Python functions and how to write them."
   ]
  },
  {
   "cell_type": "code",
   "execution_count": 70,
   "id": "2c4a1c38-b01a-4342-9189-57f9ca21ab48",
   "metadata": {},
   "outputs": [
    {
     "name": "stdout",
     "output_type": "stream",
     "text": [
      "25\n",
      "Takes in a number n, returns the square of n\n"
     ]
    }
   ],
   "source": [
    "'''\n",
    "Docstrings (Documentation Strings) are string literals used to document modules, classes, functions, or methods in Python.\n",
    "Unlike comments, docstrings are a form of documentation and are retained at runtime as part of the code's metadata. \n",
    "They can be accessed programmatically using various tools for documentation generation or introspection.\n",
    "They serve both as human-readable documentation and as metadata that can be utilized by external tools for documentation generation or by developers for introspection.\n",
    "They serve as a way to describe the purpose, usage, parameters, return values, and other details about the code entity they document.\n",
    "''';\n",
    "\n",
    "def square(n):\n",
    "    \"\"\"Takes in a number n, returns the square of n\"\"\"  # this is a docstring\n",
    "    print(n ** 2)\n",
    "\n",
    "\n",
    "square(5)\n",
    "\n",
    "# Python doc attribute\n",
    "# Whenever string literals are present just after the definition of a function, module, class or method, they are associated with \n",
    "# the object(i.e. function name) as their doc attribute.\n",
    "# We can later use this attribute to retrieve this docstring.\n",
    "\n",
    "print(square.__doc__)\n",
    "# if docstrings appear in any other place within function, method, class, or module, they will not be docstrings anymore and print(square.__doc__) will output NONE."
   ]
  },
  {
   "cell_type": "markdown",
   "id": "77ed9cc5-f877-4952-81c3-9ce754923272",
   "metadata": {},
   "source": [
    "#### 2. Describe some best practices for naming functions and variables in Python, including naming conventions and guidelines."
   ]
  },
  {
   "cell_type": "code",
   "execution_count": 72,
   "id": "f5815d30-85a1-4724-87c5-33c888725859",
   "metadata": {},
   "outputs": [],
   "source": [
    "# Naming Conventions:\n",
    "\n",
    "# Use lowercase letters: Python uses lowercase letters for variable and function names.\n",
    "# Use underscores: Use underscores to separate words in variable and function names.\n",
    "# Avoid special characters: Avoid using special characters like !, @, #, etc. in variable and function names.\n",
    "# Use descriptive names: Use descriptive names that indicate the purpose or function of the variable or function.\n",
    "\n",
    "# Guidelines:\n",
    "\n",
    "# Use meaningful names: Use names that accurately reflect the purpose or function of the variable or function.\n",
    "# Keep it short: Keep variable and function names short and concise.\n",
    "# Avoid ambiguity: Avoid using names that are ambiguous or easily confused with other names.\n",
    "# Use consistent naming: Use consistent naming conventions throughout your code.\n",
    "# Avoid special characters: Avoid using special characters like !, @, #, etc. in variable and function names.\n",
    "# Use underscores: Use underscores to separate words in variable and function names.\n",
    "# Use descriptive names: Use descriptive names that indicate the purpose or function of the variable or function.\n",
    "\n",
    "# Examples:\n",
    "\n",
    "# my_variable (variable name)\n",
    "# calculate_sum (function name)\n",
    "# hello_world (variable name)\n",
    "# print_message (function name)\n",
    "\n",
    "# Best Practices:\n",
    "\n",
    "# Use meaningful names: Use names that accurately reflect the purpose or function of the variable or function.\n",
    "# Keep it short: Keep variable and function names short and concise.\n",
    "# Avoid ambiguity: Avoid using names that are ambiguous or easily confused with other names.\n",
    "# Use consistent naming: Use consistent naming conventions throughout your code.\n",
    "# Avoid special characters: Avoid using special characters like !, @, #, etc. in variable and function names.\n",
    "# Use underscores: Use underscores to separate words in variable and function names.\n",
    "# Use descriptive names: Use descriptive names that indicate the purpose or function of the variable or function."
   ]
  }
 ],
 "metadata": {
  "kernelspec": {
   "display_name": "Python 3 (ipykernel)",
   "language": "python",
   "name": "python3"
  },
  "language_info": {
   "codemirror_mode": {
    "name": "ipython",
    "version": 3
   },
   "file_extension": ".py",
   "mimetype": "text/x-python",
   "name": "python",
   "nbconvert_exporter": "python",
   "pygments_lexer": "ipython3",
   "version": "3.10.8"
  }
 },
 "nbformat": 4,
 "nbformat_minor": 5
}
